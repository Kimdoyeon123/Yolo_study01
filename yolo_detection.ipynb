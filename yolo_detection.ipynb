{
 "cells": [
  {
   "cell_type": "code",
   "execution_count": 18,
   "metadata": {},
   "outputs": [],
   "source": [
    "import ultralytics"
   ]
  },
  {
   "cell_type": "code",
   "execution_count": 21,
   "metadata": {},
   "outputs": [
    {
     "name": "stdout",
     "output_type": "stream",
     "text": [
      "Ultralytics YOLOv8.2.21  Python-3.11.9 torch-2.3.0+cpu CPU (12th Gen Intel Core(TM) i7-12700F)\n",
      "\u001b[34m\u001b[1mengine\\trainer: \u001b[0mtask=detect, mode=train, model=yolov8s.pt, data=Alpaca_detection.v2i.yolov8/data.yaml, epochs=20, time=None, patience=100, batch=16, imgsz=640, save=True, save_period=-1, cache=False, device=None, workers=8, project=None, name=train, exist_ok=False, pretrained=True, optimizer=auto, verbose=True, seed=0, deterministic=True, single_cls=False, rect=False, cos_lr=False, close_mosaic=10, resume=False, amp=True, fraction=1.0, profile=False, freeze=None, multi_scale=False, overlap_mask=True, mask_ratio=4, dropout=0.0, val=True, split=val, save_json=False, save_hybrid=False, conf=None, iou=0.7, max_det=300, half=False, dnn=False, plots=True, source=None, vid_stride=1, stream_buffer=False, visualize=False, augment=False, agnostic_nms=False, classes=None, retina_masks=False, embed=None, show=False, save_frames=False, save_txt=False, save_conf=False, save_crop=False, show_labels=True, show_conf=True, show_boxes=True, line_width=None, format=torchscript, keras=False, optimize=False, int8=False, dynamic=False, simplify=False, opset=None, workspace=4, nms=False, lr0=0.01, lrf=0.01, momentum=0.937, weight_decay=0.0005, warmup_epochs=3.0, warmup_momentum=0.8, warmup_bias_lr=0.1, box=7.5, cls=0.5, dfl=1.5, pose=12.0, kobj=1.0, label_smoothing=0.0, nbs=64, hsv_h=0.015, hsv_s=0.7, hsv_v=0.4, degrees=0.0, translate=0.1, scale=0.5, shear=0.0, perspective=0.0, flipud=0.0, fliplr=0.5, bgr=0.0, mosaic=1.0, mixup=0.0, copy_paste=0.0, auto_augment=randaugment, erasing=0.4, crop_fraction=1.0, cfg=None, tracker=botsort.yaml, save_dir=runs\\detect\\train\n",
      "Downloading https://ultralytics.com/assets/Arial.ttf to 'C:\\Users\\user\\AppData\\Roaming\\Ultralytics\\Arial.ttf'...\n"
     ]
    },
    {
     "name": "stderr",
     "output_type": "stream",
     "text": [
      "100%|██████████| 755k/755k [00:00<00:00, 51.4MB/s]"
     ]
    },
    {
     "name": "stdout",
     "output_type": "stream",
     "text": [
      "Overriding model.yaml nc=80 with nc=1\n",
      "\n",
      "                   from  n    params  module                                       arguments                     \n",
      "  0                  -1  1       928  ultralytics.nn.modules.conv.Conv             [3, 32, 3, 2]                 \n",
      "  1                  -1  1     18560  ultralytics.nn.modules.conv.Conv             [32, 64, 3, 2]                \n",
      "  2                  -1  1     29056  ultralytics.nn.modules.block.C2f             [64, 64, 1, True]             \n",
      "  3                  -1  1     73984  ultralytics.nn.modules.conv.Conv             [64, 128, 3, 2]               \n",
      "  4                  -1  2    197632  ultralytics.nn.modules.block.C2f             [128, 128, 2, True]           \n",
      "  5                  -1  1    295424  ultralytics.nn.modules.conv.Conv             [128, 256, 3, 2]              \n",
      "  6                  -1  2    788480  ultralytics.nn.modules.block.C2f             [256, 256, 2, True]           \n",
      "  7                  -1  1   1180672  ultralytics.nn.modules.conv.Conv             [256, 512, 3, 2]              \n",
      "  8                  -1  1   1838080  ultralytics.nn.modules.block.C2f             [512, 512, 1, True]           \n",
      "  9                  -1  1    656896  ultralytics.nn.modules.block.SPPF            [512, 512, 5]                 \n",
      " 10                  -1  1         0  torch.nn.modules.upsampling.Upsample         [None, 2, 'nearest']          \n",
      " 11             [-1, 6]  1         0  ultralytics.nn.modules.conv.Concat           [1]                           \n",
      " 12                  -1  1    591360  ultralytics.nn.modules.block.C2f             [768, 256, 1]                 \n",
      " 13                  -1  1         0  torch.nn.modules.upsampling.Upsample         [None, 2, 'nearest']          \n",
      " 14             [-1, 4]  1         0  ultralytics.nn.modules.conv.Concat           [1]                           \n",
      " 15                  -1  1    148224  ultralytics.nn.modules.block.C2f             [384, 128, 1]                 \n",
      " 16                  -1  1    147712  ultralytics.nn.modules.conv.Conv             [128, 128, 3, 2]              \n",
      " 17            [-1, 12]  1         0  ultralytics.nn.modules.conv.Concat           [1]                           \n",
      " 18                  -1  1    493056  ultralytics.nn.modules.block.C2f             [384, 256, 1]                 \n",
      " 19                  -1  1    590336  ultralytics.nn.modules.conv.Conv             [256, 256, 3, 2]              \n",
      " 20             [-1, 9]  1         0  ultralytics.nn.modules.conv.Concat           [1]                           \n",
      " 21                  -1  1   1969152  ultralytics.nn.modules.block.C2f             [768, 512, 1]                 \n",
      " 22        [15, 18, 21]  1   2116435  ultralytics.nn.modules.head.Detect           [1, [128, 256, 512]]          \n"
     ]
    },
    {
     "name": "stderr",
     "output_type": "stream",
     "text": [
      "\n"
     ]
    },
    {
     "name": "stdout",
     "output_type": "stream",
     "text": [
      "Model summary: 225 layers, 11135987 parameters, 11135971 gradients, 28.6 GFLOPs\n",
      "\n",
      "Transferred 349/355 items from pretrained weights\n",
      "Freezing layer 'model.22.dfl.conv.weight'\n"
     ]
    },
    {
     "name": "stderr",
     "output_type": "stream",
     "text": [
      "\u001b[34m\u001b[1mtrain: \u001b[0mScanning C:\\Users\\user\\Desktop\\Yolov8_study\\Alpaca_detection.v2i.yolov8\\train\\labels... 300 images, 0 backgrounds, 0 corrupt: 100%|██████████| 300/300 [00:00<00:00, 1449.28it/s]"
     ]
    },
    {
     "name": "stdout",
     "output_type": "stream",
     "text": [
      "\u001b[34m\u001b[1mtrain: \u001b[0mNew cache created: C:\\Users\\user\\Desktop\\Yolov8_study\\Alpaca_detection.v2i.yolov8\\train\\labels.cache\n"
     ]
    },
    {
     "name": "stderr",
     "output_type": "stream",
     "text": [
      "\n",
      "\u001b[34m\u001b[1mval: \u001b[0mScanning C:\\Users\\user\\Desktop\\Yolov8_study\\Alpaca_detection.v2i.yolov8\\valid\\labels... 29 images, 0 backgrounds, 0 corrupt: 100%|██████████| 29/29 [00:00<00:00, 1318.12it/s]"
     ]
    },
    {
     "name": "stdout",
     "output_type": "stream",
     "text": [
      "\u001b[34m\u001b[1mval: \u001b[0mNew cache created: C:\\Users\\user\\Desktop\\Yolov8_study\\Alpaca_detection.v2i.yolov8\\valid\\labels.cache\n"
     ]
    },
    {
     "name": "stderr",
     "output_type": "stream",
     "text": [
      "\n"
     ]
    },
    {
     "name": "stdout",
     "output_type": "stream",
     "text": [
      "Plotting labels to runs\\detect\\train\\labels.jpg... \n",
      "\u001b[34m\u001b[1moptimizer:\u001b[0m 'optimizer=auto' found, ignoring 'lr0=0.01' and 'momentum=0.937' and determining best 'optimizer', 'lr0' and 'momentum' automatically... \n",
      "\u001b[34m\u001b[1moptimizer:\u001b[0m AdamW(lr=0.002, momentum=0.9) with parameter groups 57 weight(decay=0.0), 64 weight(decay=0.0005), 63 bias(decay=0.0)\n",
      "Image sizes 640 train, 640 val\n",
      "Using 0 dataloader workers\n",
      "Logging results to \u001b[1mruns\\detect\\train\u001b[0m\n",
      "Starting training for 20 epochs...\n",
      "\n",
      "      Epoch    GPU_mem   box_loss   cls_loss   dfl_loss  Instances       Size\n"
     ]
    },
    {
     "name": "stderr",
     "output_type": "stream",
     "text": [
      "       1/20         0G      1.315      1.815      1.558         62        640: 100%|██████████| 19/19 [01:59<00:00,  6.29s/it]\n",
      "                 Class     Images  Instances      Box(P          R      mAP50  mAP50-95): 100%|██████████| 1/1 [00:04<00:00,  4.47s/it]"
     ]
    },
    {
     "name": "stdout",
     "output_type": "stream",
     "text": [
      "                   all         29         60      0.579      0.641      0.637       0.38\n"
     ]
    },
    {
     "name": "stderr",
     "output_type": "stream",
     "text": [
      "\n"
     ]
    },
    {
     "name": "stdout",
     "output_type": "stream",
     "text": [
      "\n",
      "      Epoch    GPU_mem   box_loss   cls_loss   dfl_loss  Instances       Size\n"
     ]
    },
    {
     "name": "stderr",
     "output_type": "stream",
     "text": [
      "       2/20         0G      1.294      1.468       1.47         59        640: 100%|██████████| 19/19 [01:46<00:00,  5.62s/it]\n",
      "                 Class     Images  Instances      Box(P          R      mAP50  mAP50-95): 100%|██████████| 1/1 [00:04<00:00,  4.28s/it]"
     ]
    },
    {
     "name": "stdout",
     "output_type": "stream",
     "text": [
      "                   all         29         60       0.43      0.583      0.456      0.199\n"
     ]
    },
    {
     "name": "stderr",
     "output_type": "stream",
     "text": [
      "\n"
     ]
    },
    {
     "name": "stdout",
     "output_type": "stream",
     "text": [
      "\n",
      "      Epoch    GPU_mem   box_loss   cls_loss   dfl_loss  Instances       Size\n"
     ]
    },
    {
     "name": "stderr",
     "output_type": "stream",
     "text": [
      "       3/20         0G      1.452      1.392       1.57         43        640: 100%|██████████| 19/19 [01:46<00:00,  5.62s/it]\n",
      "                 Class     Images  Instances      Box(P          R      mAP50  mAP50-95): 100%|██████████| 1/1 [00:04<00:00,  4.08s/it]"
     ]
    },
    {
     "name": "stdout",
     "output_type": "stream",
     "text": [
      "                   all         29         60      0.421      0.583      0.452      0.225\n"
     ]
    },
    {
     "name": "stderr",
     "output_type": "stream",
     "text": [
      "\n"
     ]
    },
    {
     "name": "stdout",
     "output_type": "stream",
     "text": [
      "\n",
      "      Epoch    GPU_mem   box_loss   cls_loss   dfl_loss  Instances       Size\n"
     ]
    },
    {
     "name": "stderr",
     "output_type": "stream",
     "text": [
      "       4/20         0G      1.464       1.39      1.593         42        640: 100%|██████████| 19/19 [01:46<00:00,  5.59s/it]\n",
      "                 Class     Images  Instances      Box(P          R      mAP50  mAP50-95): 100%|██████████| 1/1 [00:04<00:00,  4.15s/it]"
     ]
    },
    {
     "name": "stdout",
     "output_type": "stream",
     "text": [
      "                   all         29         60      0.488      0.533      0.475      0.178\n"
     ]
    },
    {
     "name": "stderr",
     "output_type": "stream",
     "text": [
      "\n"
     ]
    },
    {
     "name": "stdout",
     "output_type": "stream",
     "text": [
      "\n",
      "      Epoch    GPU_mem   box_loss   cls_loss   dfl_loss  Instances       Size\n"
     ]
    },
    {
     "name": "stderr",
     "output_type": "stream",
     "text": [
      "       5/20         0G      1.553      1.544      1.716         51        640: 100%|██████████| 19/19 [01:46<00:00,  5.61s/it]\n",
      "                 Class     Images  Instances      Box(P          R      mAP50  mAP50-95): 100%|██████████| 1/1 [00:04<00:00,  4.15s/it]"
     ]
    },
    {
     "name": "stdout",
     "output_type": "stream",
     "text": [
      "                   all         29         60      0.197      0.617      0.388      0.154\n"
     ]
    },
    {
     "name": "stderr",
     "output_type": "stream",
     "text": [
      "\n"
     ]
    },
    {
     "name": "stdout",
     "output_type": "stream",
     "text": [
      "\n",
      "      Epoch    GPU_mem   box_loss   cls_loss   dfl_loss  Instances       Size\n"
     ]
    },
    {
     "name": "stderr",
     "output_type": "stream",
     "text": [
      "       6/20         0G      1.506      1.492      1.676         30        640: 100%|██████████| 19/19 [01:47<00:00,  5.63s/it]\n",
      "                 Class     Images  Instances      Box(P          R      mAP50  mAP50-95): 100%|██████████| 1/1 [00:04<00:00,  4.09s/it]"
     ]
    },
    {
     "name": "stdout",
     "output_type": "stream",
     "text": [
      "                   all         29         60      0.222      0.428      0.244     0.0946\n"
     ]
    },
    {
     "name": "stderr",
     "output_type": "stream",
     "text": [
      "\n"
     ]
    },
    {
     "name": "stdout",
     "output_type": "stream",
     "text": [
      "\n",
      "      Epoch    GPU_mem   box_loss   cls_loss   dfl_loss  Instances       Size\n"
     ]
    },
    {
     "name": "stderr",
     "output_type": "stream",
     "text": [
      "       7/20         0G      1.511      1.402      1.665         43        640: 100%|██████████| 19/19 [01:47<00:00,  5.63s/it]\n",
      "                 Class     Images  Instances      Box(P          R      mAP50  mAP50-95): 100%|██████████| 1/1 [00:04<00:00,  4.27s/it]"
     ]
    },
    {
     "name": "stdout",
     "output_type": "stream",
     "text": [
      "                   all         29         60      0.352      0.517      0.348      0.115\n"
     ]
    },
    {
     "name": "stderr",
     "output_type": "stream",
     "text": [
      "\n"
     ]
    },
    {
     "name": "stdout",
     "output_type": "stream",
     "text": [
      "\n",
      "      Epoch    GPU_mem   box_loss   cls_loss   dfl_loss  Instances       Size\n"
     ]
    },
    {
     "name": "stderr",
     "output_type": "stream",
     "text": [
      "       8/20         0G      1.488       1.38      1.654         44        640: 100%|██████████| 19/19 [01:46<00:00,  5.63s/it]\n",
      "                 Class     Images  Instances      Box(P          R      mAP50  mAP50-95): 100%|██████████| 1/1 [00:04<00:00,  4.16s/it]"
     ]
    },
    {
     "name": "stdout",
     "output_type": "stream",
     "text": [
      "                   all         29         60      0.457      0.517      0.484      0.238\n"
     ]
    },
    {
     "name": "stderr",
     "output_type": "stream",
     "text": [
      "\n"
     ]
    },
    {
     "name": "stdout",
     "output_type": "stream",
     "text": [
      "\n",
      "      Epoch    GPU_mem   box_loss   cls_loss   dfl_loss  Instances       Size\n"
     ]
    },
    {
     "name": "stderr",
     "output_type": "stream",
     "text": [
      "       9/20         0G      1.431      1.368      1.645         49        640: 100%|██████████| 19/19 [01:46<00:00,  5.63s/it]\n",
      "                 Class     Images  Instances      Box(P          R      mAP50  mAP50-95): 100%|██████████| 1/1 [00:04<00:00,  4.10s/it]"
     ]
    },
    {
     "name": "stdout",
     "output_type": "stream",
     "text": [
      "                   all         29         60      0.626      0.559      0.539      0.279\n"
     ]
    },
    {
     "name": "stderr",
     "output_type": "stream",
     "text": [
      "\n"
     ]
    },
    {
     "name": "stdout",
     "output_type": "stream",
     "text": [
      "\n",
      "      Epoch    GPU_mem   box_loss   cls_loss   dfl_loss  Instances       Size\n"
     ]
    },
    {
     "name": "stderr",
     "output_type": "stream",
     "text": [
      "      10/20         0G       1.38      1.262      1.586         45        640: 100%|██████████| 19/19 [01:47<00:00,  5.64s/it]\n",
      "                 Class     Images  Instances      Box(P          R      mAP50  mAP50-95): 100%|██████████| 1/1 [00:04<00:00,  4.22s/it]"
     ]
    },
    {
     "name": "stdout",
     "output_type": "stream",
     "text": [
      "                   all         29         60      0.566      0.499      0.506      0.224\n"
     ]
    },
    {
     "name": "stderr",
     "output_type": "stream",
     "text": [
      "\n"
     ]
    },
    {
     "name": "stdout",
     "output_type": "stream",
     "text": [
      "Closing dataloader mosaic\n",
      "\n",
      "      Epoch    GPU_mem   box_loss   cls_loss   dfl_loss  Instances       Size\n"
     ]
    },
    {
     "name": "stderr",
     "output_type": "stream",
     "text": [
      "      11/20         0G        1.4      1.223      1.636         28        640: 100%|██████████| 19/19 [01:46<00:00,  5.61s/it]\n",
      "                 Class     Images  Instances      Box(P          R      mAP50  mAP50-95): 100%|██████████| 1/1 [00:04<00:00,  4.14s/it]"
     ]
    },
    {
     "name": "stdout",
     "output_type": "stream",
     "text": [
      "                   all         29         60      0.612      0.667      0.601      0.334\n"
     ]
    },
    {
     "name": "stderr",
     "output_type": "stream",
     "text": [
      "\n"
     ]
    },
    {
     "name": "stdout",
     "output_type": "stream",
     "text": [
      "\n",
      "      Epoch    GPU_mem   box_loss   cls_loss   dfl_loss  Instances       Size\n"
     ]
    },
    {
     "name": "stderr",
     "output_type": "stream",
     "text": [
      "      12/20         0G      1.242      1.034      1.512         28        640: 100%|██████████| 19/19 [01:46<00:00,  5.60s/it]\n",
      "                 Class     Images  Instances      Box(P          R      mAP50  mAP50-95): 100%|██████████| 1/1 [00:04<00:00,  4.19s/it]"
     ]
    },
    {
     "name": "stdout",
     "output_type": "stream",
     "text": [
      "                   all         29         60      0.678      0.598      0.638      0.392\n"
     ]
    },
    {
     "name": "stderr",
     "output_type": "stream",
     "text": [
      "\n"
     ]
    },
    {
     "name": "stdout",
     "output_type": "stream",
     "text": [
      "\n",
      "      Epoch    GPU_mem   box_loss   cls_loss   dfl_loss  Instances       Size\n"
     ]
    },
    {
     "name": "stderr",
     "output_type": "stream",
     "text": [
      "      13/20         0G      1.207      0.951      1.493         24        640: 100%|██████████| 19/19 [01:46<00:00,  5.59s/it]\n",
      "                 Class     Images  Instances      Box(P          R      mAP50  mAP50-95): 100%|██████████| 1/1 [00:04<00:00,  4.20s/it]"
     ]
    },
    {
     "name": "stdout",
     "output_type": "stream",
     "text": [
      "                   all         29         60      0.724       0.65      0.725      0.415\n"
     ]
    },
    {
     "name": "stderr",
     "output_type": "stream",
     "text": [
      "\n"
     ]
    },
    {
     "name": "stdout",
     "output_type": "stream",
     "text": [
      "\n",
      "      Epoch    GPU_mem   box_loss   cls_loss   dfl_loss  Instances       Size\n"
     ]
    },
    {
     "name": "stderr",
     "output_type": "stream",
     "text": [
      "      14/20         0G      1.203     0.9178      1.517         24        640: 100%|██████████| 19/19 [01:46<00:00,  5.61s/it]\n",
      "                 Class     Images  Instances      Box(P          R      mAP50  mAP50-95): 100%|██████████| 1/1 [00:04<00:00,  4.23s/it]"
     ]
    },
    {
     "name": "stdout",
     "output_type": "stream",
     "text": [
      "                   all         29         60      0.683      0.667      0.692      0.384\n"
     ]
    },
    {
     "name": "stderr",
     "output_type": "stream",
     "text": [
      "\n"
     ]
    },
    {
     "name": "stdout",
     "output_type": "stream",
     "text": [
      "\n",
      "      Epoch    GPU_mem   box_loss   cls_loss   dfl_loss  Instances       Size\n"
     ]
    },
    {
     "name": "stderr",
     "output_type": "stream",
     "text": [
      "      15/20         0G      1.132     0.8464       1.47         34        640: 100%|██████████| 19/19 [01:45<00:00,  5.55s/it]\n",
      "                 Class     Images  Instances      Box(P          R      mAP50  mAP50-95): 100%|██████████| 1/1 [00:04<00:00,  4.27s/it]"
     ]
    },
    {
     "name": "stdout",
     "output_type": "stream",
     "text": [
      "                   all         29         60      0.792      0.699      0.787      0.524\n"
     ]
    },
    {
     "name": "stderr",
     "output_type": "stream",
     "text": [
      "\n"
     ]
    },
    {
     "name": "stdout",
     "output_type": "stream",
     "text": [
      "\n",
      "      Epoch    GPU_mem   box_loss   cls_loss   dfl_loss  Instances       Size\n"
     ]
    },
    {
     "name": "stderr",
     "output_type": "stream",
     "text": [
      "      16/20         0G      1.023     0.7604      1.359         31        640: 100%|██████████| 19/19 [01:45<00:00,  5.57s/it]\n",
      "                 Class     Images  Instances      Box(P          R      mAP50  mAP50-95): 100%|██████████| 1/1 [00:04<00:00,  4.13s/it]"
     ]
    },
    {
     "name": "stdout",
     "output_type": "stream",
     "text": [
      "                   all         29         60      0.883        0.7       0.82       0.53\n"
     ]
    },
    {
     "name": "stderr",
     "output_type": "stream",
     "text": [
      "\n"
     ]
    },
    {
     "name": "stdout",
     "output_type": "stream",
     "text": [
      "\n",
      "      Epoch    GPU_mem   box_loss   cls_loss   dfl_loss  Instances       Size\n"
     ]
    },
    {
     "name": "stderr",
     "output_type": "stream",
     "text": [
      "      17/20         0G      1.021     0.7386       1.34         32        640: 100%|██████████| 19/19 [01:46<00:00,  5.61s/it]\n",
      "                 Class     Images  Instances      Box(P          R      mAP50  mAP50-95): 100%|██████████| 1/1 [00:04<00:00,  4.15s/it]"
     ]
    },
    {
     "name": "stdout",
     "output_type": "stream",
     "text": [
      "                   all         29         60      0.661        0.7       0.72      0.491\n"
     ]
    },
    {
     "name": "stderr",
     "output_type": "stream",
     "text": [
      "\n"
     ]
    },
    {
     "name": "stdout",
     "output_type": "stream",
     "text": [
      "\n",
      "      Epoch    GPU_mem   box_loss   cls_loss   dfl_loss  Instances       Size\n"
     ]
    },
    {
     "name": "stderr",
     "output_type": "stream",
     "text": [
      "      18/20         0G      0.972     0.7137      1.315         31        640: 100%|██████████| 19/19 [01:46<00:00,  5.60s/it]\n",
      "                 Class     Images  Instances      Box(P          R      mAP50  mAP50-95): 100%|██████████| 1/1 [00:04<00:00,  4.19s/it]"
     ]
    },
    {
     "name": "stdout",
     "output_type": "stream",
     "text": [
      "                   all         29         60      0.877      0.593      0.742      0.513\n"
     ]
    },
    {
     "name": "stderr",
     "output_type": "stream",
     "text": [
      "\n"
     ]
    },
    {
     "name": "stdout",
     "output_type": "stream",
     "text": [
      "\n",
      "      Epoch    GPU_mem   box_loss   cls_loss   dfl_loss  Instances       Size\n"
     ]
    },
    {
     "name": "stderr",
     "output_type": "stream",
     "text": [
      "      19/20         0G     0.9278     0.6698      1.257         21        640: 100%|██████████| 19/19 [01:46<00:00,  5.60s/it]\n",
      "                 Class     Images  Instances      Box(P          R      mAP50  mAP50-95): 100%|██████████| 1/1 [00:04<00:00,  4.12s/it]"
     ]
    },
    {
     "name": "stdout",
     "output_type": "stream",
     "text": [
      "                   all         29         60      0.799       0.73      0.792      0.551\n"
     ]
    },
    {
     "name": "stderr",
     "output_type": "stream",
     "text": [
      "\n"
     ]
    },
    {
     "name": "stdout",
     "output_type": "stream",
     "text": [
      "\n",
      "      Epoch    GPU_mem   box_loss   cls_loss   dfl_loss  Instances       Size\n"
     ]
    },
    {
     "name": "stderr",
     "output_type": "stream",
     "text": [
      "      20/20         0G     0.9346     0.6529      1.262         35        640: 100%|██████████| 19/19 [01:46<00:00,  5.61s/it]\n",
      "                 Class     Images  Instances      Box(P          R      mAP50  mAP50-95): 100%|██████████| 1/1 [00:04<00:00,  4.27s/it]"
     ]
    },
    {
     "name": "stdout",
     "output_type": "stream",
     "text": [
      "                   all         29         60      0.706      0.802      0.811      0.569\n"
     ]
    },
    {
     "name": "stderr",
     "output_type": "stream",
     "text": [
      "\n"
     ]
    },
    {
     "name": "stdout",
     "output_type": "stream",
     "text": [
      "\n",
      "20 epochs completed in 0.621 hours.\n",
      "Optimizer stripped from runs\\detect\\train\\weights\\last.pt, 22.5MB\n",
      "Optimizer stripped from runs\\detect\\train\\weights\\best.pt, 22.5MB\n",
      "\n",
      "Validating runs\\detect\\train\\weights\\best.pt...\n",
      "Ultralytics YOLOv8.2.21  Python-3.11.9 torch-2.3.0+cpu CPU (12th Gen Intel Core(TM) i7-12700F)\n",
      "Model summary (fused): 168 layers, 11125971 parameters, 0 gradients, 28.4 GFLOPs\n"
     ]
    },
    {
     "name": "stderr",
     "output_type": "stream",
     "text": [
      "                 Class     Images  Instances      Box(P          R      mAP50  mAP50-95): 100%|██████████| 1/1 [00:03<00:00,  3.43s/it]\n"
     ]
    },
    {
     "name": "stdout",
     "output_type": "stream",
     "text": [
      "                   all         29         60      0.784      0.717      0.808      0.564\n",
      "Speed: 1.2ms preprocess, 111.3ms inference, 0.0ms loss, 0.2ms postprocess per image\n",
      "Results saved to \u001b[1mruns\\detect\\train\u001b[0m\n"
     ]
    },
    {
     "data": {
      "text/plain": [
       "ultralytics.utils.metrics.DetMetrics object with attributes:\n",
       "\n",
       "ap_class_index: array([0])\n",
       "box: ultralytics.utils.metrics.Metric object\n",
       "confusion_matrix: <ultralytics.utils.metrics.ConfusionMatrix object at 0x00000243FF8A4290>\n",
       "curves: ['Precision-Recall(B)', 'F1-Confidence(B)', 'Precision-Confidence(B)', 'Recall-Confidence(B)']\n",
       "curves_results: [[array([          0,    0.001001,    0.002002,    0.003003,    0.004004,    0.005005,    0.006006,    0.007007,    0.008008,    0.009009,     0.01001,    0.011011,    0.012012,    0.013013,    0.014014,    0.015015,    0.016016,    0.017017,    0.018018,    0.019019,     0.02002,    0.021021,    0.022022,    0.023023,\n",
       "          0.024024,    0.025025,    0.026026,    0.027027,    0.028028,    0.029029,     0.03003,    0.031031,    0.032032,    0.033033,    0.034034,    0.035035,    0.036036,    0.037037,    0.038038,    0.039039,     0.04004,    0.041041,    0.042042,    0.043043,    0.044044,    0.045045,    0.046046,    0.047047,\n",
       "          0.048048,    0.049049,     0.05005,    0.051051,    0.052052,    0.053053,    0.054054,    0.055055,    0.056056,    0.057057,    0.058058,    0.059059,     0.06006,    0.061061,    0.062062,    0.063063,    0.064064,    0.065065,    0.066066,    0.067067,    0.068068,    0.069069,     0.07007,    0.071071,\n",
       "          0.072072,    0.073073,    0.074074,    0.075075,    0.076076,    0.077077,    0.078078,    0.079079,     0.08008,    0.081081,    0.082082,    0.083083,    0.084084,    0.085085,    0.086086,    0.087087,    0.088088,    0.089089,     0.09009,    0.091091,    0.092092,    0.093093,    0.094094,    0.095095,\n",
       "          0.096096,    0.097097,    0.098098,    0.099099,      0.1001,      0.1011,      0.1021,      0.1031,      0.1041,     0.10511,     0.10611,     0.10711,     0.10811,     0.10911,     0.11011,     0.11111,     0.11211,     0.11311,     0.11411,     0.11512,     0.11612,     0.11712,     0.11812,     0.11912,\n",
       "           0.12012,     0.12112,     0.12212,     0.12312,     0.12412,     0.12513,     0.12613,     0.12713,     0.12813,     0.12913,     0.13013,     0.13113,     0.13213,     0.13313,     0.13413,     0.13514,     0.13614,     0.13714,     0.13814,     0.13914,     0.14014,     0.14114,     0.14214,     0.14314,\n",
       "           0.14414,     0.14515,     0.14615,     0.14715,     0.14815,     0.14915,     0.15015,     0.15115,     0.15215,     0.15315,     0.15415,     0.15516,     0.15616,     0.15716,     0.15816,     0.15916,     0.16016,     0.16116,     0.16216,     0.16316,     0.16416,     0.16517,     0.16617,     0.16717,\n",
       "           0.16817,     0.16917,     0.17017,     0.17117,     0.17217,     0.17317,     0.17417,     0.17518,     0.17618,     0.17718,     0.17818,     0.17918,     0.18018,     0.18118,     0.18218,     0.18318,     0.18418,     0.18519,     0.18619,     0.18719,     0.18819,     0.18919,     0.19019,     0.19119,\n",
       "           0.19219,     0.19319,     0.19419,      0.1952,      0.1962,      0.1972,      0.1982,      0.1992,      0.2002,      0.2012,      0.2022,      0.2032,      0.2042,     0.20521,     0.20621,     0.20721,     0.20821,     0.20921,     0.21021,     0.21121,     0.21221,     0.21321,     0.21421,     0.21522,\n",
       "           0.21622,     0.21722,     0.21822,     0.21922,     0.22022,     0.22122,     0.22222,     0.22322,     0.22422,     0.22523,     0.22623,     0.22723,     0.22823,     0.22923,     0.23023,     0.23123,     0.23223,     0.23323,     0.23423,     0.23524,     0.23624,     0.23724,     0.23824,     0.23924,\n",
       "           0.24024,     0.24124,     0.24224,     0.24324,     0.24424,     0.24525,     0.24625,     0.24725,     0.24825,     0.24925,     0.25025,     0.25125,     0.25225,     0.25325,     0.25425,     0.25526,     0.25626,     0.25726,     0.25826,     0.25926,     0.26026,     0.26126,     0.26226,     0.26326,\n",
       "           0.26426,     0.26527,     0.26627,     0.26727,     0.26827,     0.26927,     0.27027,     0.27127,     0.27227,     0.27327,     0.27427,     0.27528,     0.27628,     0.27728,     0.27828,     0.27928,     0.28028,     0.28128,     0.28228,     0.28328,     0.28428,     0.28529,     0.28629,     0.28729,\n",
       "           0.28829,     0.28929,     0.29029,     0.29129,     0.29229,     0.29329,     0.29429,      0.2953,      0.2963,      0.2973,      0.2983,      0.2993,      0.3003,      0.3013,      0.3023,      0.3033,      0.3043,     0.30531,     0.30631,     0.30731,     0.30831,     0.30931,     0.31031,     0.31131,\n",
       "           0.31231,     0.31331,     0.31431,     0.31532,     0.31632,     0.31732,     0.31832,     0.31932,     0.32032,     0.32132,     0.32232,     0.32332,     0.32432,     0.32533,     0.32633,     0.32733,     0.32833,     0.32933,     0.33033,     0.33133,     0.33233,     0.33333,     0.33433,     0.33534,\n",
       "           0.33634,     0.33734,     0.33834,     0.33934,     0.34034,     0.34134,     0.34234,     0.34334,     0.34434,     0.34535,     0.34635,     0.34735,     0.34835,     0.34935,     0.35035,     0.35135,     0.35235,     0.35335,     0.35435,     0.35536,     0.35636,     0.35736,     0.35836,     0.35936,\n",
       "           0.36036,     0.36136,     0.36236,     0.36336,     0.36436,     0.36537,     0.36637,     0.36737,     0.36837,     0.36937,     0.37037,     0.37137,     0.37237,     0.37337,     0.37437,     0.37538,     0.37638,     0.37738,     0.37838,     0.37938,     0.38038,     0.38138,     0.38238,     0.38338,\n",
       "           0.38438,     0.38539,     0.38639,     0.38739,     0.38839,     0.38939,     0.39039,     0.39139,     0.39239,     0.39339,     0.39439,      0.3954,      0.3964,      0.3974,      0.3984,      0.3994,      0.4004,      0.4014,      0.4024,      0.4034,      0.4044,     0.40541,     0.40641,     0.40741,\n",
       "           0.40841,     0.40941,     0.41041,     0.41141,     0.41241,     0.41341,     0.41441,     0.41542,     0.41642,     0.41742,     0.41842,     0.41942,     0.42042,     0.42142,     0.42242,     0.42342,     0.42442,     0.42543,     0.42643,     0.42743,     0.42843,     0.42943,     0.43043,     0.43143,\n",
       "           0.43243,     0.43343,     0.43443,     0.43544,     0.43644,     0.43744,     0.43844,     0.43944,     0.44044,     0.44144,     0.44244,     0.44344,     0.44444,     0.44545,     0.44645,     0.44745,     0.44845,     0.44945,     0.45045,     0.45145,     0.45245,     0.45345,     0.45445,     0.45546,\n",
       "           0.45646,     0.45746,     0.45846,     0.45946,     0.46046,     0.46146,     0.46246,     0.46346,     0.46446,     0.46547,     0.46647,     0.46747,     0.46847,     0.46947,     0.47047,     0.47147,     0.47247,     0.47347,     0.47447,     0.47548,     0.47648,     0.47748,     0.47848,     0.47948,\n",
       "           0.48048,     0.48148,     0.48248,     0.48348,     0.48448,     0.48549,     0.48649,     0.48749,     0.48849,     0.48949,     0.49049,     0.49149,     0.49249,     0.49349,     0.49449,      0.4955,      0.4965,      0.4975,      0.4985,      0.4995,      0.5005,      0.5015,      0.5025,      0.5035,\n",
       "            0.5045,     0.50551,     0.50651,     0.50751,     0.50851,     0.50951,     0.51051,     0.51151,     0.51251,     0.51351,     0.51451,     0.51552,     0.51652,     0.51752,     0.51852,     0.51952,     0.52052,     0.52152,     0.52252,     0.52352,     0.52452,     0.52553,     0.52653,     0.52753,\n",
       "           0.52853,     0.52953,     0.53053,     0.53153,     0.53253,     0.53353,     0.53453,     0.53554,     0.53654,     0.53754,     0.53854,     0.53954,     0.54054,     0.54154,     0.54254,     0.54354,     0.54454,     0.54555,     0.54655,     0.54755,     0.54855,     0.54955,     0.55055,     0.55155,\n",
       "           0.55255,     0.55355,     0.55455,     0.55556,     0.55656,     0.55756,     0.55856,     0.55956,     0.56056,     0.56156,     0.56256,     0.56356,     0.56456,     0.56557,     0.56657,     0.56757,     0.56857,     0.56957,     0.57057,     0.57157,     0.57257,     0.57357,     0.57457,     0.57558,\n",
       "           0.57658,     0.57758,     0.57858,     0.57958,     0.58058,     0.58158,     0.58258,     0.58358,     0.58458,     0.58559,     0.58659,     0.58759,     0.58859,     0.58959,     0.59059,     0.59159,     0.59259,     0.59359,     0.59459,      0.5956,      0.5966,      0.5976,      0.5986,      0.5996,\n",
       "            0.6006,      0.6016,      0.6026,      0.6036,      0.6046,     0.60561,     0.60661,     0.60761,     0.60861,     0.60961,     0.61061,     0.61161,     0.61261,     0.61361,     0.61461,     0.61562,     0.61662,     0.61762,     0.61862,     0.61962,     0.62062,     0.62162,     0.62262,     0.62362,\n",
       "           0.62462,     0.62563,     0.62663,     0.62763,     0.62863,     0.62963,     0.63063,     0.63163,     0.63263,     0.63363,     0.63463,     0.63564,     0.63664,     0.63764,     0.63864,     0.63964,     0.64064,     0.64164,     0.64264,     0.64364,     0.64464,     0.64565,     0.64665,     0.64765,\n",
       "           0.64865,     0.64965,     0.65065,     0.65165,     0.65265,     0.65365,     0.65465,     0.65566,     0.65666,     0.65766,     0.65866,     0.65966,     0.66066,     0.66166,     0.66266,     0.66366,     0.66466,     0.66567,     0.66667,     0.66767,     0.66867,     0.66967,     0.67067,     0.67167,\n",
       "           0.67267,     0.67367,     0.67467,     0.67568,     0.67668,     0.67768,     0.67868,     0.67968,     0.68068,     0.68168,     0.68268,     0.68368,     0.68468,     0.68569,     0.68669,     0.68769,     0.68869,     0.68969,     0.69069,     0.69169,     0.69269,     0.69369,     0.69469,      0.6957,\n",
       "            0.6967,      0.6977,      0.6987,      0.6997,      0.7007,      0.7017,      0.7027,      0.7037,      0.7047,     0.70571,     0.70671,     0.70771,     0.70871,     0.70971,     0.71071,     0.71171,     0.71271,     0.71371,     0.71471,     0.71572,     0.71672,     0.71772,     0.71872,     0.71972,\n",
       "           0.72072,     0.72172,     0.72272,     0.72372,     0.72472,     0.72573,     0.72673,     0.72773,     0.72873,     0.72973,     0.73073,     0.73173,     0.73273,     0.73373,     0.73473,     0.73574,     0.73674,     0.73774,     0.73874,     0.73974,     0.74074,     0.74174,     0.74274,     0.74374,\n",
       "           0.74474,     0.74575,     0.74675,     0.74775,     0.74875,     0.74975,     0.75075,     0.75175,     0.75275,     0.75375,     0.75475,     0.75576,     0.75676,     0.75776,     0.75876,     0.75976,     0.76076,     0.76176,     0.76276,     0.76376,     0.76476,     0.76577,     0.76677,     0.76777,\n",
       "           0.76877,     0.76977,     0.77077,     0.77177,     0.77277,     0.77377,     0.77477,     0.77578,     0.77678,     0.77778,     0.77878,     0.77978,     0.78078,     0.78178,     0.78278,     0.78378,     0.78478,     0.78579,     0.78679,     0.78779,     0.78879,     0.78979,     0.79079,     0.79179,\n",
       "           0.79279,     0.79379,     0.79479,      0.7958,      0.7968,      0.7978,      0.7988,      0.7998,      0.8008,      0.8018,      0.8028,      0.8038,      0.8048,     0.80581,     0.80681,     0.80781,     0.80881,     0.80981,     0.81081,     0.81181,     0.81281,     0.81381,     0.81481,     0.81582,\n",
       "           0.81682,     0.81782,     0.81882,     0.81982,     0.82082,     0.82182,     0.82282,     0.82382,     0.82482,     0.82583,     0.82683,     0.82783,     0.82883,     0.82983,     0.83083,     0.83183,     0.83283,     0.83383,     0.83483,     0.83584,     0.83684,     0.83784,     0.83884,     0.83984,\n",
       "           0.84084,     0.84184,     0.84284,     0.84384,     0.84484,     0.84585,     0.84685,     0.84785,     0.84885,     0.84985,     0.85085,     0.85185,     0.85285,     0.85385,     0.85485,     0.85586,     0.85686,     0.85786,     0.85886,     0.85986,     0.86086,     0.86186,     0.86286,     0.86386,\n",
       "           0.86486,     0.86587,     0.86687,     0.86787,     0.86887,     0.86987,     0.87087,     0.87187,     0.87287,     0.87387,     0.87487,     0.87588,     0.87688,     0.87788,     0.87888,     0.87988,     0.88088,     0.88188,     0.88288,     0.88388,     0.88488,     0.88589,     0.88689,     0.88789,\n",
       "           0.88889,     0.88989,     0.89089,     0.89189,     0.89289,     0.89389,     0.89489,      0.8959,      0.8969,      0.8979,      0.8989,      0.8999,      0.9009,      0.9019,      0.9029,      0.9039,      0.9049,     0.90591,     0.90691,     0.90791,     0.90891,     0.90991,     0.91091,     0.91191,\n",
       "           0.91291,     0.91391,     0.91491,     0.91592,     0.91692,     0.91792,     0.91892,     0.91992,     0.92092,     0.92192,     0.92292,     0.92392,     0.92492,     0.92593,     0.92693,     0.92793,     0.92893,     0.92993,     0.93093,     0.93193,     0.93293,     0.93393,     0.93493,     0.93594,\n",
       "           0.93694,     0.93794,     0.93894,     0.93994,     0.94094,     0.94194,     0.94294,     0.94394,     0.94494,     0.94595,     0.94695,     0.94795,     0.94895,     0.94995,     0.95095,     0.95195,     0.95295,     0.95395,     0.95495,     0.95596,     0.95696,     0.95796,     0.95896,     0.95996,\n",
       "           0.96096,     0.96196,     0.96296,     0.96396,     0.96496,     0.96597,     0.96697,     0.96797,     0.96897,     0.96997,     0.97097,     0.97197,     0.97297,     0.97397,     0.97497,     0.97598,     0.97698,     0.97798,     0.97898,     0.97998,     0.98098,     0.98198,     0.98298,     0.98398,\n",
       "           0.98498,     0.98599,     0.98699,     0.98799,     0.98899,     0.98999,     0.99099,     0.99199,     0.99299,     0.99399,     0.99499,       0.996,       0.997,       0.998,       0.999,           1]), array([[          1,           1,           1,           1,           1,           1,           1,           1,           1,           1,           1,           1,           1,           1,           1,           1,           1,           1,           1,           1,           1,           1,           1,\n",
       "                  1,           1,           1,           1,           1,           1,           1,           1,           1,           1,           1,           1,           1,           1,           1,           1,           1,           1,           1,           1,           1,           1,           1,\n",
       "                  1,           1,           1,           1,           1,           1,           1,           1,           1,           1,           1,           1,           1,           1,           1,           1,           1,           1,           1,           1,           1,           1,           1,\n",
       "                  1,           1,           1,           1,           1,           1,           1,           1,           1,           1,           1,           1,           1,           1,           1,           1,           1,           1,           1,           1,           1,           1,           1,\n",
       "                  1,           1,           1,           1,           1,           1,           1,           1,           1,           1,           1,           1,           1,           1,           1,           1,           1,           1,           1,           1,           1,           1,           1,\n",
       "                  1,           1,           1,           1,           1,           1,           1,           1,           1,           1,           1,           1,           1,           1,           1,           1,           1,           1,           1,           1,           1,           1,           1,\n",
       "                  1,           1,           1,           1,           1,           1,           1,           1,           1,           1,           1,           1,           1,           1,           1,           1,           1,           1,           1,           1,           1,           1,           1,\n",
       "                  1,           1,           1,           1,           1,           1,           1,           1,           1,           1,           1,           1,           1,           1,           1,           1,           1,           1,           1,           1,           1,           1,           1,\n",
       "                  1,           1,           1,           1,           1,           1,           1,           1,           1,           1,           1,           1,           1,           1,           1,           1,           1,           1,           1,           1,           1,           1,           1,\n",
       "                  1,           1,           1,           1,           1,           1,           1,           1,           1,           1,           1,           1,           1,           1,           1,           1,           1,           1,           1,           1,           1,           1,           1,\n",
       "                  1,           1,           1,           1,           1,           1,           1,           1,           1,           1,           1,           1,           1,           1,           1,           1,           1,           1,           1,           1,           1,           1,           1,\n",
       "                  1,           1,           1,           1,           1,           1,           1,           1,           1,           1,           1,           1,           1,           1,           1,           1,           1,           1,           1,           1,           1,           1,           1,\n",
       "                  1,           1,           1,           1,           1,           1,           1,           1,           1,           1,           1,           1,           1,           1,           1,           1,           1,           1,           1,           1,           1,           1,           1,\n",
       "                  1,           1,           1,           1,           1,           1,           1,           1,           1,           1,           1,           1,           1,           1,           1,           1,           1,           1,           1,           1,           1,           1,           1,\n",
       "                  1,           1,           1,           1,           1,           1,           1,           1,           1,           1,           1,     0.96552,     0.96552,     0.96552,     0.96552,     0.96552,     0.96552,     0.96552,     0.96552,     0.96552,     0.96552,     0.96552,     0.96552,\n",
       "            0.96552,     0.96552,     0.96552,     0.96552,     0.96552,     0.96552,     0.96552,     0.96552,     0.96552,     0.96552,     0.96552,     0.96552,     0.96552,     0.96552,     0.96552,     0.96552,     0.96552,     0.96552,     0.96552,     0.96552,     0.96552,     0.96552,     0.96552,\n",
       "            0.96552,     0.96552,     0.96552,     0.96552,     0.96552,     0.96552,     0.96552,     0.96552,     0.96552,     0.96552,     0.96552,     0.96552,     0.96552,     0.96552,     0.96552,     0.96552,     0.96552,     0.96552,     0.96552,     0.96552,     0.96552,     0.96552,     0.96552,\n",
       "            0.96552,     0.96552,     0.96552,     0.96552,     0.96552,     0.96552,     0.96552,     0.96552,     0.96552,     0.96552,     0.96552,     0.96552,     0.96552,     0.96552,     0.96552,     0.96552,     0.96552,     0.96552,     0.96552,     0.96552,     0.96552,     0.96552,     0.96552,\n",
       "            0.96552,     0.96552,     0.96552,     0.96552,     0.96552,     0.96552,     0.96552,     0.96552,     0.96552,     0.96552,     0.96552,     0.96552,     0.96552,     0.96552,     0.96552,     0.96552,     0.96552,     0.96552,     0.96552,     0.96552,     0.96552,     0.96552,     0.96552,\n",
       "            0.96552,     0.96552,     0.96552,     0.96552,     0.96552,     0.96552,     0.96552,     0.96552,     0.96552,     0.96552,     0.96552,     0.96552,     0.96552,     0.96552,     0.96552,     0.96552,     0.96552,     0.96552,     0.96552,     0.96552,     0.96552,     0.96552,     0.96552,\n",
       "            0.96552,     0.96552,     0.96552,     0.96552,     0.96552,     0.96552,     0.96552,     0.93939,     0.93939,     0.93939,     0.93939,     0.93939,     0.93939,     0.93939,     0.93939,     0.93939,     0.93939,     0.93939,     0.93939,     0.93939,     0.93939,     0.93939,     0.93939,\n",
       "            0.93939,     0.93939,     0.93939,     0.93939,     0.93939,     0.93939,     0.93939,     0.93939,     0.93939,     0.93939,     0.93939,     0.93939,     0.93939,     0.93939,     0.93939,     0.93939,     0.93939,     0.93939,     0.93939,     0.93939,     0.93939,     0.93939,     0.93939,\n",
       "            0.93939,     0.93939,     0.93939,     0.93939,     0.93939,     0.93939,     0.93939,     0.93939,     0.93939,     0.93939,     0.93939,     0.86486,     0.86486,     0.86486,     0.86486,     0.86486,     0.86486,     0.86486,     0.86486,     0.86486,     0.86486,     0.86486,     0.86486,\n",
       "            0.86486,     0.86486,     0.86486,     0.86486,       0.825,       0.825,       0.825,       0.825,       0.825,       0.825,       0.825,       0.825,       0.825,       0.825,       0.825,       0.825,       0.825,       0.825,       0.825,       0.825,       0.825,     0.80952,     0.80952,\n",
       "            0.80952,     0.80952,     0.80952,     0.80952,     0.80952,     0.80952,     0.80952,     0.80952,     0.80952,     0.80952,     0.80952,     0.80952,     0.80952,     0.80952,     0.80952,     0.80435,     0.80435,     0.80435,     0.80435,     0.80435,     0.80435,     0.80435,     0.80435,\n",
       "            0.80435,     0.80435,     0.80435,     0.80435,     0.80435,     0.80435,     0.80435,     0.80435,     0.80435,     0.80435,     0.80435,     0.80435,     0.80435,     0.80435,     0.80435,     0.80435,     0.80435,     0.80435,     0.80435,     0.80435,     0.80435,     0.80435,     0.80435,\n",
       "            0.80435,     0.80435,     0.80435,     0.80435,     0.80435,     0.80435,     0.80435,     0.80435,     0.80435,     0.80435,     0.80435,     0.80435,     0.80435,     0.80435,     0.80435,     0.80435,     0.80435,     0.80435,     0.80435,         0.8,         0.8,         0.8,         0.8,\n",
       "                0.8,         0.8,         0.8,         0.8,         0.8,         0.8,         0.8,         0.8,         0.8,         0.8,         0.8,         0.8,         0.8,         0.8,         0.8,         0.8,         0.8,         0.8,         0.8,         0.8,         0.8,         0.8,         0.8,\n",
       "                0.8,         0.8,         0.8,         0.8,         0.8,         0.8,         0.8,         0.8,         0.8,         0.8,         0.8,         0.8,         0.8,         0.8,         0.8,         0.8,         0.8,         0.8,         0.8,         0.8,         0.8,         0.8,      0.7963,\n",
       "             0.7963,      0.7963,      0.7963,      0.7963,      0.7963,      0.7963,      0.7963,      0.7963,      0.7963,      0.7963,      0.7963,      0.7963,      0.7963,      0.7963,      0.7963,      0.7963,      0.7963,      0.7963,      0.7963,      0.7963,      0.7963,      0.7963,      0.7963,\n",
       "             0.7963,      0.7963,      0.7963,      0.7963,      0.7963,      0.7963,      0.7963,      0.7963,      0.7963,      0.7963,      0.7963,      0.7963,      0.7963,      0.7963,      0.7963,      0.7963,      0.7963,      0.7963,      0.7963,      0.7963,      0.7963,      0.7963,      0.7963,\n",
       "             0.7963,      0.7963,      0.7963,     0.78571,     0.78571,     0.78571,     0.78571,     0.78571,     0.78571,     0.78571,     0.78571,     0.78571,     0.78571,     0.78571,     0.78571,     0.78571,     0.78571,     0.78571,     0.78571,     0.78571,     0.73016,     0.73016,     0.73016,\n",
       "            0.73016,     0.73016,     0.73016,     0.73016,     0.73016,     0.73016,     0.73016,     0.73016,     0.73016,     0.73016,     0.73016,     0.73016,     0.73016,     0.73016,     0.73016,     0.73016,     0.73016,     0.73016,     0.73016,     0.73016,     0.73016,     0.73016,     0.73016,\n",
       "            0.73016,     0.73016,     0.73016,     0.73016,     0.73016,     0.73016,     0.73016,     0.71642,     0.71642,     0.71642,     0.71642,     0.71642,     0.71642,     0.71642,     0.71642,     0.71642,     0.71642,     0.71642,     0.71642,     0.71642,     0.71642,     0.71642,     0.71642,\n",
       "            0.71642,     0.71642,     0.71642,     0.71642,     0.71642,     0.71642,     0.71642,     0.71642,     0.71642,     0.71642,     0.71642,     0.71642,     0.71642,     0.71642,     0.71642,     0.71642,     0.71642,     0.71642,     0.69444,     0.69444,     0.69444,     0.69444,     0.69444,\n",
       "            0.69444,     0.69444,     0.69444,     0.69444,     0.69444,     0.69444,     0.69444,     0.69444,     0.69444,     0.69444,     0.69444,     0.69444,     0.69444,     0.69444,     0.69444,     0.69444,     0.69444,     0.69444,     0.69444,     0.69444,     0.69444,     0.69444,     0.69444,\n",
       "            0.69444,     0.69444,     0.69444,     0.69444,     0.69444,     0.66234,     0.66234,     0.66234,     0.66234,     0.66234,     0.66234,     0.66234,     0.66234,     0.66234,     0.66234,     0.66234,     0.66234,     0.66234,     0.66234,     0.66234,     0.66234,     0.66234,     0.54167,\n",
       "            0.54167,     0.54167,     0.54167,     0.54167,     0.54167,     0.54167,     0.54167,     0.54167,     0.54167,     0.54167,     0.54167,     0.54167,     0.54167,     0.54167,     0.54167,     0.44538,     0.44538,     0.44538,     0.44538,     0.44538,     0.44538,     0.44538,     0.44538,\n",
       "            0.44538,     0.44538,     0.44538,     0.44538,     0.44538,     0.44538,     0.44538,     0.44538,     0.44538,      0.3253,      0.3253,      0.3253,      0.3253,      0.3253,      0.3253,      0.3253,      0.3253,      0.3253,      0.3253,      0.3253,      0.3253,      0.3253,      0.3253,\n",
       "             0.3253,      0.3253,      0.3253,     0.32164,     0.32164,     0.32164,     0.32164,     0.32164,     0.32164,     0.32164,     0.32164,     0.32164,     0.32164,     0.32164,     0.32164,     0.32164,     0.32164,     0.32164,     0.32164,      0.2963,      0.2963,      0.2963,      0.2963,\n",
       "             0.2963,      0.2963,      0.2963,      0.2963,      0.2963,      0.2963,      0.2963,      0.2963,      0.2963,      0.2963,      0.2963,      0.2963,      0.2963,     0.27941,     0.27941,     0.27941,     0.27941,     0.27941,     0.27941,     0.27941,     0.27941,     0.27941,     0.27941,\n",
       "            0.27941,     0.27941,     0.27941,     0.27941,     0.27941,     0.27941,     0.27941,     0.25664,     0.25664,     0.25664,     0.25664,     0.25664,     0.25664,     0.25664,     0.25664,     0.25664,     0.25664,     0.25664,     0.25664,     0.25664,     0.25664,     0.25664,     0.25664,\n",
       "            0.12255,     0.11884,     0.11513,     0.11141,      0.1077,     0.10398,     0.10027,    0.096557,    0.092843,     0.08913,    0.085416,    0.081702,    0.077988,    0.074275,    0.070561,    0.066847,    0.063133,     0.05942,    0.055706,    0.051992,    0.048279,    0.044565,    0.040851,\n",
       "           0.037137,    0.033424,     0.02971,    0.025996,    0.022282,    0.018569,    0.014855,    0.011141,   0.0074275,   0.0037137,           0]]), 'Recall', 'Precision'], [array([          0,    0.001001,    0.002002,    0.003003,    0.004004,    0.005005,    0.006006,    0.007007,    0.008008,    0.009009,     0.01001,    0.011011,    0.012012,    0.013013,    0.014014,    0.015015,    0.016016,    0.017017,    0.018018,    0.019019,     0.02002,    0.021021,    0.022022,    0.023023,\n",
       "          0.024024,    0.025025,    0.026026,    0.027027,    0.028028,    0.029029,     0.03003,    0.031031,    0.032032,    0.033033,    0.034034,    0.035035,    0.036036,    0.037037,    0.038038,    0.039039,     0.04004,    0.041041,    0.042042,    0.043043,    0.044044,    0.045045,    0.046046,    0.047047,\n",
       "          0.048048,    0.049049,     0.05005,    0.051051,    0.052052,    0.053053,    0.054054,    0.055055,    0.056056,    0.057057,    0.058058,    0.059059,     0.06006,    0.061061,    0.062062,    0.063063,    0.064064,    0.065065,    0.066066,    0.067067,    0.068068,    0.069069,     0.07007,    0.071071,\n",
       "          0.072072,    0.073073,    0.074074,    0.075075,    0.076076,    0.077077,    0.078078,    0.079079,     0.08008,    0.081081,    0.082082,    0.083083,    0.084084,    0.085085,    0.086086,    0.087087,    0.088088,    0.089089,     0.09009,    0.091091,    0.092092,    0.093093,    0.094094,    0.095095,\n",
       "          0.096096,    0.097097,    0.098098,    0.099099,      0.1001,      0.1011,      0.1021,      0.1031,      0.1041,     0.10511,     0.10611,     0.10711,     0.10811,     0.10911,     0.11011,     0.11111,     0.11211,     0.11311,     0.11411,     0.11512,     0.11612,     0.11712,     0.11812,     0.11912,\n",
       "           0.12012,     0.12112,     0.12212,     0.12312,     0.12412,     0.12513,     0.12613,     0.12713,     0.12813,     0.12913,     0.13013,     0.13113,     0.13213,     0.13313,     0.13413,     0.13514,     0.13614,     0.13714,     0.13814,     0.13914,     0.14014,     0.14114,     0.14214,     0.14314,\n",
       "           0.14414,     0.14515,     0.14615,     0.14715,     0.14815,     0.14915,     0.15015,     0.15115,     0.15215,     0.15315,     0.15415,     0.15516,     0.15616,     0.15716,     0.15816,     0.15916,     0.16016,     0.16116,     0.16216,     0.16316,     0.16416,     0.16517,     0.16617,     0.16717,\n",
       "           0.16817,     0.16917,     0.17017,     0.17117,     0.17217,     0.17317,     0.17417,     0.17518,     0.17618,     0.17718,     0.17818,     0.17918,     0.18018,     0.18118,     0.18218,     0.18318,     0.18418,     0.18519,     0.18619,     0.18719,     0.18819,     0.18919,     0.19019,     0.19119,\n",
       "           0.19219,     0.19319,     0.19419,      0.1952,      0.1962,      0.1972,      0.1982,      0.1992,      0.2002,      0.2012,      0.2022,      0.2032,      0.2042,     0.20521,     0.20621,     0.20721,     0.20821,     0.20921,     0.21021,     0.21121,     0.21221,     0.21321,     0.21421,     0.21522,\n",
       "           0.21622,     0.21722,     0.21822,     0.21922,     0.22022,     0.22122,     0.22222,     0.22322,     0.22422,     0.22523,     0.22623,     0.22723,     0.22823,     0.22923,     0.23023,     0.23123,     0.23223,     0.23323,     0.23423,     0.23524,     0.23624,     0.23724,     0.23824,     0.23924,\n",
       "           0.24024,     0.24124,     0.24224,     0.24324,     0.24424,     0.24525,     0.24625,     0.24725,     0.24825,     0.24925,     0.25025,     0.25125,     0.25225,     0.25325,     0.25425,     0.25526,     0.25626,     0.25726,     0.25826,     0.25926,     0.26026,     0.26126,     0.26226,     0.26326,\n",
       "           0.26426,     0.26527,     0.26627,     0.26727,     0.26827,     0.26927,     0.27027,     0.27127,     0.27227,     0.27327,     0.27427,     0.27528,     0.27628,     0.27728,     0.27828,     0.27928,     0.28028,     0.28128,     0.28228,     0.28328,     0.28428,     0.28529,     0.28629,     0.28729,\n",
       "           0.28829,     0.28929,     0.29029,     0.29129,     0.29229,     0.29329,     0.29429,      0.2953,      0.2963,      0.2973,      0.2983,      0.2993,      0.3003,      0.3013,      0.3023,      0.3033,      0.3043,     0.30531,     0.30631,     0.30731,     0.30831,     0.30931,     0.31031,     0.31131,\n",
       "           0.31231,     0.31331,     0.31431,     0.31532,     0.31632,     0.31732,     0.31832,     0.31932,     0.32032,     0.32132,     0.32232,     0.32332,     0.32432,     0.32533,     0.32633,     0.32733,     0.32833,     0.32933,     0.33033,     0.33133,     0.33233,     0.33333,     0.33433,     0.33534,\n",
       "           0.33634,     0.33734,     0.33834,     0.33934,     0.34034,     0.34134,     0.34234,     0.34334,     0.34434,     0.34535,     0.34635,     0.34735,     0.34835,     0.34935,     0.35035,     0.35135,     0.35235,     0.35335,     0.35435,     0.35536,     0.35636,     0.35736,     0.35836,     0.35936,\n",
       "           0.36036,     0.36136,     0.36236,     0.36336,     0.36436,     0.36537,     0.36637,     0.36737,     0.36837,     0.36937,     0.37037,     0.37137,     0.37237,     0.37337,     0.37437,     0.37538,     0.37638,     0.37738,     0.37838,     0.37938,     0.38038,     0.38138,     0.38238,     0.38338,\n",
       "           0.38438,     0.38539,     0.38639,     0.38739,     0.38839,     0.38939,     0.39039,     0.39139,     0.39239,     0.39339,     0.39439,      0.3954,      0.3964,      0.3974,      0.3984,      0.3994,      0.4004,      0.4014,      0.4024,      0.4034,      0.4044,     0.40541,     0.40641,     0.40741,\n",
       "           0.40841,     0.40941,     0.41041,     0.41141,     0.41241,     0.41341,     0.41441,     0.41542,     0.41642,     0.41742,     0.41842,     0.41942,     0.42042,     0.42142,     0.42242,     0.42342,     0.42442,     0.42543,     0.42643,     0.42743,     0.42843,     0.42943,     0.43043,     0.43143,\n",
       "           0.43243,     0.43343,     0.43443,     0.43544,     0.43644,     0.43744,     0.43844,     0.43944,     0.44044,     0.44144,     0.44244,     0.44344,     0.44444,     0.44545,     0.44645,     0.44745,     0.44845,     0.44945,     0.45045,     0.45145,     0.45245,     0.45345,     0.45445,     0.45546,\n",
       "           0.45646,     0.45746,     0.45846,     0.45946,     0.46046,     0.46146,     0.46246,     0.46346,     0.46446,     0.46547,     0.46647,     0.46747,     0.46847,     0.46947,     0.47047,     0.47147,     0.47247,     0.47347,     0.47447,     0.47548,     0.47648,     0.47748,     0.47848,     0.47948,\n",
       "           0.48048,     0.48148,     0.48248,     0.48348,     0.48448,     0.48549,     0.48649,     0.48749,     0.48849,     0.48949,     0.49049,     0.49149,     0.49249,     0.49349,     0.49449,      0.4955,      0.4965,      0.4975,      0.4985,      0.4995,      0.5005,      0.5015,      0.5025,      0.5035,\n",
       "            0.5045,     0.50551,     0.50651,     0.50751,     0.50851,     0.50951,     0.51051,     0.51151,     0.51251,     0.51351,     0.51451,     0.51552,     0.51652,     0.51752,     0.51852,     0.51952,     0.52052,     0.52152,     0.52252,     0.52352,     0.52452,     0.52553,     0.52653,     0.52753,\n",
       "           0.52853,     0.52953,     0.53053,     0.53153,     0.53253,     0.53353,     0.53453,     0.53554,     0.53654,     0.53754,     0.53854,     0.53954,     0.54054,     0.54154,     0.54254,     0.54354,     0.54454,     0.54555,     0.54655,     0.54755,     0.54855,     0.54955,     0.55055,     0.55155,\n",
       "           0.55255,     0.55355,     0.55455,     0.55556,     0.55656,     0.55756,     0.55856,     0.55956,     0.56056,     0.56156,     0.56256,     0.56356,     0.56456,     0.56557,     0.56657,     0.56757,     0.56857,     0.56957,     0.57057,     0.57157,     0.57257,     0.57357,     0.57457,     0.57558,\n",
       "           0.57658,     0.57758,     0.57858,     0.57958,     0.58058,     0.58158,     0.58258,     0.58358,     0.58458,     0.58559,     0.58659,     0.58759,     0.58859,     0.58959,     0.59059,     0.59159,     0.59259,     0.59359,     0.59459,      0.5956,      0.5966,      0.5976,      0.5986,      0.5996,\n",
       "            0.6006,      0.6016,      0.6026,      0.6036,      0.6046,     0.60561,     0.60661,     0.60761,     0.60861,     0.60961,     0.61061,     0.61161,     0.61261,     0.61361,     0.61461,     0.61562,     0.61662,     0.61762,     0.61862,     0.61962,     0.62062,     0.62162,     0.62262,     0.62362,\n",
       "           0.62462,     0.62563,     0.62663,     0.62763,     0.62863,     0.62963,     0.63063,     0.63163,     0.63263,     0.63363,     0.63463,     0.63564,     0.63664,     0.63764,     0.63864,     0.63964,     0.64064,     0.64164,     0.64264,     0.64364,     0.64464,     0.64565,     0.64665,     0.64765,\n",
       "           0.64865,     0.64965,     0.65065,     0.65165,     0.65265,     0.65365,     0.65465,     0.65566,     0.65666,     0.65766,     0.65866,     0.65966,     0.66066,     0.66166,     0.66266,     0.66366,     0.66466,     0.66567,     0.66667,     0.66767,     0.66867,     0.66967,     0.67067,     0.67167,\n",
       "           0.67267,     0.67367,     0.67467,     0.67568,     0.67668,     0.67768,     0.67868,     0.67968,     0.68068,     0.68168,     0.68268,     0.68368,     0.68468,     0.68569,     0.68669,     0.68769,     0.68869,     0.68969,     0.69069,     0.69169,     0.69269,     0.69369,     0.69469,      0.6957,\n",
       "            0.6967,      0.6977,      0.6987,      0.6997,      0.7007,      0.7017,      0.7027,      0.7037,      0.7047,     0.70571,     0.70671,     0.70771,     0.70871,     0.70971,     0.71071,     0.71171,     0.71271,     0.71371,     0.71471,     0.71572,     0.71672,     0.71772,     0.71872,     0.71972,\n",
       "           0.72072,     0.72172,     0.72272,     0.72372,     0.72472,     0.72573,     0.72673,     0.72773,     0.72873,     0.72973,     0.73073,     0.73173,     0.73273,     0.73373,     0.73473,     0.73574,     0.73674,     0.73774,     0.73874,     0.73974,     0.74074,     0.74174,     0.74274,     0.74374,\n",
       "           0.74474,     0.74575,     0.74675,     0.74775,     0.74875,     0.74975,     0.75075,     0.75175,     0.75275,     0.75375,     0.75475,     0.75576,     0.75676,     0.75776,     0.75876,     0.75976,     0.76076,     0.76176,     0.76276,     0.76376,     0.76476,     0.76577,     0.76677,     0.76777,\n",
       "           0.76877,     0.76977,     0.77077,     0.77177,     0.77277,     0.77377,     0.77477,     0.77578,     0.77678,     0.77778,     0.77878,     0.77978,     0.78078,     0.78178,     0.78278,     0.78378,     0.78478,     0.78579,     0.78679,     0.78779,     0.78879,     0.78979,     0.79079,     0.79179,\n",
       "           0.79279,     0.79379,     0.79479,      0.7958,      0.7968,      0.7978,      0.7988,      0.7998,      0.8008,      0.8018,      0.8028,      0.8038,      0.8048,     0.80581,     0.80681,     0.80781,     0.80881,     0.80981,     0.81081,     0.81181,     0.81281,     0.81381,     0.81481,     0.81582,\n",
       "           0.81682,     0.81782,     0.81882,     0.81982,     0.82082,     0.82182,     0.82282,     0.82382,     0.82482,     0.82583,     0.82683,     0.82783,     0.82883,     0.82983,     0.83083,     0.83183,     0.83283,     0.83383,     0.83483,     0.83584,     0.83684,     0.83784,     0.83884,     0.83984,\n",
       "           0.84084,     0.84184,     0.84284,     0.84384,     0.84484,     0.84585,     0.84685,     0.84785,     0.84885,     0.84985,     0.85085,     0.85185,     0.85285,     0.85385,     0.85485,     0.85586,     0.85686,     0.85786,     0.85886,     0.85986,     0.86086,     0.86186,     0.86286,     0.86386,\n",
       "           0.86486,     0.86587,     0.86687,     0.86787,     0.86887,     0.86987,     0.87087,     0.87187,     0.87287,     0.87387,     0.87487,     0.87588,     0.87688,     0.87788,     0.87888,     0.87988,     0.88088,     0.88188,     0.88288,     0.88388,     0.88488,     0.88589,     0.88689,     0.88789,\n",
       "           0.88889,     0.88989,     0.89089,     0.89189,     0.89289,     0.89389,     0.89489,      0.8959,      0.8969,      0.8979,      0.8989,      0.8999,      0.9009,      0.9019,      0.9029,      0.9039,      0.9049,     0.90591,     0.90691,     0.90791,     0.90891,     0.90991,     0.91091,     0.91191,\n",
       "           0.91291,     0.91391,     0.91491,     0.91592,     0.91692,     0.91792,     0.91892,     0.91992,     0.92092,     0.92192,     0.92292,     0.92392,     0.92492,     0.92593,     0.92693,     0.92793,     0.92893,     0.92993,     0.93093,     0.93193,     0.93293,     0.93393,     0.93493,     0.93594,\n",
       "           0.93694,     0.93794,     0.93894,     0.93994,     0.94094,     0.94194,     0.94294,     0.94394,     0.94494,     0.94595,     0.94695,     0.94795,     0.94895,     0.94995,     0.95095,     0.95195,     0.95295,     0.95395,     0.95495,     0.95596,     0.95696,     0.95796,     0.95896,     0.95996,\n",
       "           0.96096,     0.96196,     0.96296,     0.96396,     0.96496,     0.96597,     0.96697,     0.96797,     0.96897,     0.96997,     0.97097,     0.97197,     0.97297,     0.97397,     0.97497,     0.97598,     0.97698,     0.97798,     0.97898,     0.97998,     0.98098,     0.98198,     0.98298,     0.98398,\n",
       "           0.98498,     0.98599,     0.98699,     0.98799,     0.98899,     0.98999,     0.99099,     0.99199,     0.99299,     0.99399,     0.99499,       0.996,       0.997,       0.998,       0.999,           1]), array([[    0.21928,     0.21928,     0.30361,     0.37024,     0.41715,     0.44582,     0.46651,     0.47711,      0.4939,     0.51685,     0.52728,     0.54459,     0.54701,      0.5548,     0.55977,     0.56555,     0.57016,     0.57164,     0.57646,     0.58336,     0.59133,     0.59028,     0.59345,\n",
       "            0.59759,     0.60056,      0.6078,     0.61376,     0.62096,      0.6309,     0.63878,     0.63985,     0.64092,     0.64288,     0.65067,     0.65462,     0.65647,      0.6583,     0.65984,     0.66138,     0.66396,     0.66291,     0.66674,     0.66873,     0.67071,     0.67292,     0.67518,\n",
       "            0.68575,     0.69201,     0.69592,     0.69867,     0.70071,     0.70275,     0.70785,     0.70923,     0.71019,     0.71115,     0.71211,     0.71307,     0.71368,     0.71418,     0.71468,     0.71518,     0.71568,     0.71618,     0.71668,     0.71718,     0.71767,     0.71817,     0.72148,\n",
       "            0.72454,     0.72655,     0.72856,     0.73031,     0.73205,     0.73378,     0.73412,     0.73443,     0.73473,     0.73504,     0.73535,     0.73566,     0.73597,     0.73627,     0.73658,     0.73689,      0.7372,      0.7375,     0.73781,     0.73812,     0.73842,     0.73873,     0.73904,\n",
       "            0.73571,     0.73568,     0.73607,     0.73647,     0.73686,     0.73725,     0.73763,     0.73802,     0.73841,      0.7388,     0.73919,     0.73958,     0.73996,     0.74035,     0.74074,     0.74114,     0.74153,     0.74193,     0.74233,     0.74272,     0.74312,     0.74351,     0.74391,\n",
       "             0.7443,      0.7447,     0.74509,     0.74549,     0.74588,     0.74628,     0.74756,     0.74884,     0.75012,     0.75139,     0.75253,     0.75358,     0.75463,     0.75568,     0.75673,     0.75697,     0.75372,     0.75046,     0.74781,      0.7468,     0.74579,     0.74478,     0.74377,\n",
       "            0.74276,     0.74175,     0.74074,     0.73972,     0.73871,     0.73913,        0.74,     0.74087,     0.74174,      0.7426,     0.74347,      0.7444,     0.74568,     0.74695,     0.74822,     0.74948,     0.75059,     0.75159,     0.75259,     0.75358,     0.75457,     0.75556,     0.75544,\n",
       "            0.75474,     0.75403,     0.75332,     0.75261,      0.7519,     0.75119,     0.75048,     0.74977,     0.74906,     0.74835,     0.74764,     0.74692,     0.74621,     0.74213,      0.7369,      0.7366,     0.73732,     0.73804,     0.73876,     0.73947,     0.74019,      0.7409,     0.74161,\n",
       "            0.74218,     0.74262,     0.74306,     0.74351,     0.74395,     0.74439,     0.74483,     0.74527,     0.74571,     0.74615,     0.74659,     0.74703,     0.74747,     0.74791,     0.74556,     0.74275,     0.73993,     0.73749,     0.73645,     0.73542,     0.73439,     0.73336,     0.73232,\n",
       "            0.73129,     0.73025,     0.72921,     0.72818,      0.7273,     0.72748,     0.72766,     0.72784,     0.72802,      0.7282,     0.72838,     0.72856,     0.72874,     0.72892,      0.7291,     0.72927,     0.72945,     0.72963,     0.72981,     0.72999,     0.73017,     0.73035,     0.73053,\n",
       "            0.73071,     0.73089,     0.73106,     0.73124,     0.73142,      0.7316,     0.73178,     0.73196,     0.73213,     0.73231,     0.73249,     0.73267,     0.73285,     0.73302,      0.7332,     0.73349,      0.7341,     0.73471,     0.73532,     0.73592,     0.73653,     0.73714,     0.73774,\n",
       "            0.73834,     0.73895,     0.73952,     0.73978,     0.74004,      0.7403,     0.74056,     0.74082,     0.74108,     0.74134,      0.7416,     0.74186,     0.74212,     0.74238,     0.74264,      0.7429,     0.74316,     0.74341,     0.74367,     0.74393,     0.74419,     0.74445,      0.7447,\n",
       "            0.74496,     0.74522,     0.74547,     0.74573,     0.74587,       0.746,     0.74612,     0.74625,     0.74637,      0.7465,     0.74662,     0.74675,     0.74687,       0.747,     0.74712,     0.74725,     0.74737,     0.74749,     0.74762,     0.74774,     0.74787,     0.74799,     0.74812,\n",
       "            0.74824,     0.74836,     0.74849,     0.74861,     0.74874,     0.74886,     0.74898,     0.74911,     0.74923,     0.74936,     0.74948,      0.7496,     0.74973,     0.74985,     0.74998,      0.7501,     0.75022,     0.75035,     0.75047,     0.75059,     0.75072,     0.75084,     0.75096,\n",
       "            0.75109,     0.75121,     0.75133,     0.75146,     0.75158,      0.7517,     0.75182,     0.75195,     0.75207,     0.75238,     0.75291,     0.75344,     0.75397,     0.75449,     0.75502,     0.75554,     0.75607,     0.75659,     0.75711,     0.75763,     0.75815,     0.75858,     0.75816,\n",
       "            0.75774,     0.75732,     0.75689,     0.75647,     0.75605,     0.75563,     0.75521,     0.75479,     0.75436,     0.75394,     0.75352,      0.7531,     0.75267,     0.75225,     0.75183,      0.7514,     0.75098,     0.75055,     0.75013,     0.74971,     0.74928,     0.74886,     0.74843,\n",
       "            0.74801,     0.74787,     0.74795,     0.74803,      0.7481,     0.74818,     0.74826,     0.74833,     0.74841,     0.74849,     0.74857,     0.74864,     0.74872,      0.7488,     0.74888,     0.74895,     0.74903,     0.74911,     0.74918,     0.74926,     0.74934,     0.74942,     0.74949,\n",
       "            0.74957,     0.74965,     0.74972,      0.7498,     0.74988,     0.74996,     0.75003,     0.75011,     0.75019,     0.75026,     0.75034,     0.75042,     0.75049,     0.75057,     0.75065,     0.75072,      0.7508,     0.75088,     0.75095,     0.75103,     0.75111,     0.75118,     0.75126,\n",
       "            0.75134,     0.75141,     0.75149,     0.75157,     0.75164,     0.75172,      0.7518,     0.75187,     0.75195,     0.75203,      0.7521,     0.75218,     0.75226,     0.75233,     0.75241,     0.75249,     0.75256,     0.75264,     0.75271,     0.75279,     0.75287,     0.75294,     0.75302,\n",
       "             0.7531,     0.75317,     0.75325,     0.75333,      0.7534,     0.75348,     0.75355,     0.75363,     0.75371,     0.75378,     0.75386,     0.75393,     0.75401,     0.75409,     0.75416,     0.75424,     0.75431,     0.75353,     0.74326,     0.74288,     0.74251,     0.74214,     0.74177,\n",
       "             0.7414,     0.74103,     0.74065,     0.74028,     0.73991,     0.73953,     0.73916,     0.73879,     0.73842,     0.73804,     0.73767,     0.73729,     0.73692,     0.73655,     0.73617,      0.7358,     0.73542,     0.73505,     0.73467,      0.7343,     0.73393,     0.73355,     0.73317,\n",
       "             0.7328,     0.73242,     0.73192,     0.73105,     0.73018,      0.7293,     0.72843,     0.72756,     0.72668,      0.7258,     0.72493,     0.72405,     0.72317,     0.72229,     0.72141,     0.72113,     0.72303,     0.72491,     0.72678,     0.72473,     0.72126,     0.71778,     0.71521,\n",
       "            0.71418,     0.71315,     0.71212,     0.71109,     0.71006,     0.70902,     0.70799,     0.70695,     0.70591,     0.70487,     0.70383,     0.70119,      0.6983,     0.69542,     0.69252,     0.69192,      0.6924,     0.69289,     0.69337,     0.69385,     0.69433,     0.69481,     0.69529,\n",
       "            0.69577,     0.69624,     0.69672,     0.69719,     0.69767,     0.69804,     0.69688,     0.69571,     0.69455,     0.69338,     0.69221,     0.69104,     0.68987,      0.6887,     0.68752,     0.68635,     0.68531,     0.68443,     0.68355,     0.68267,     0.68178,      0.6809,     0.68002,\n",
       "            0.67913,     0.67824,     0.67736,     0.67647,     0.67558,     0.67469,      0.6738,     0.67297,     0.67238,     0.67179,      0.6712,     0.67061,     0.67001,     0.66942,     0.66883,     0.66824,     0.66764,     0.66705,     0.66646,     0.66586,     0.66527,     0.66467,     0.66408,\n",
       "            0.66348,     0.66289,     0.66229,     0.66169,      0.6611,      0.6605,     0.66217,     0.66616,     0.66579,     0.66478,     0.66378,     0.66277,     0.66176,     0.66075,     0.65974,     0.65873,     0.65772,      0.6567,     0.65569,     0.65467,     0.65365,     0.65822,     0.65899,\n",
       "            0.65752,     0.65604,     0.65457,     0.65309,     0.65161,     0.65013,     0.64864,     0.64716,     0.64666,     0.64702,     0.64738,     0.64774,      0.6481,     0.64846,     0.64882,     0.64918,     0.64954,      0.6499,     0.65025,     0.65061,     0.65096,     0.65132,     0.65167,\n",
       "            0.65203,     0.65238,     0.65273,     0.65317,     0.65491,     0.65662,     0.65832,     0.65947,     0.65701,     0.65454,     0.65207,     0.64959,      0.6471,      0.6459,     0.64603,     0.64617,      0.6463,     0.64644,     0.64657,      0.6467,     0.64684,     0.64697,      0.6471,\n",
       "            0.64724,     0.64737,      0.6475,     0.64764,     0.64777,      0.6479,     0.64803,     0.64817,      0.6483,     0.64843,     0.64856,      0.6487,     0.64883,     0.64896,     0.64909,     0.64923,     0.64936,     0.64949,     0.64962,     0.64975,     0.64988,     0.65002,     0.65015,\n",
       "            0.65028,     0.65041,     0.65054,     0.65067,      0.6508,     0.65093,     0.65106,     0.65119,     0.65132,     0.65145,     0.65158,     0.65172,     0.65185,     0.65198,     0.65211,     0.65224,     0.65236,     0.65249,     0.65262,     0.65377,     0.65497,     0.65616,     0.65734,\n",
       "            0.65852,     0.65979,     0.66207,     0.66431,     0.66653,     0.66621,     0.66572,     0.66524,     0.66475,     0.66426,     0.66377,     0.66329,      0.6628,     0.66231,     0.66182,     0.66133,     0.66084,     0.66035,     0.65986,     0.65937,     0.65888,     0.65839,      0.6579,\n",
       "            0.65741,     0.65691,     0.65642,     0.65593,     0.65543,     0.65494,     0.65445,     0.65395,     0.65346,     0.65296,     0.65247,     0.65168,     0.65045,     0.64922,     0.64799,     0.64675,     0.64552,     0.64428,     0.64304,     0.64179,     0.64055,      0.6393,     0.63805,\n",
       "            0.63644,     0.63438,     0.63232,     0.63025,     0.62817,     0.62609,     0.62401,     0.62254,     0.62471,     0.62684,     0.62895,     0.62758,     0.62569,      0.6238,     0.62191,     0.62001,      0.6181,      0.6162,     0.61428,     0.61255,     0.61092,     0.60929,     0.60765,\n",
       "              0.606,     0.60435,      0.6027,     0.60105,     0.59939,     0.59773,     0.59588,     0.59403,     0.59218,     0.59032,     0.58845,     0.58659,     0.58471,     0.58283,     0.58035,     0.57589,     0.57141,      0.5669,     0.55759,     0.54723,     0.54588,     0.54452,     0.54317,\n",
       "            0.54181,     0.54044,     0.53908,     0.53771,     0.53634,     0.53497,     0.53359,     0.53222,     0.53084,     0.52934,     0.52771,     0.52608,     0.52444,      0.5228,     0.52116,     0.51951,     0.51786,     0.51621,     0.51455,     0.51289,     0.50803,     0.50083,     0.49385,\n",
       "            0.49452,     0.49519,     0.49585,      0.4965,     0.49716,      0.4978,     0.49844,     0.49908,     0.49971,     0.49926,     0.49788,      0.4965,     0.49512,     0.49373,     0.49234,     0.49095,     0.48956,     0.48816,     0.48676,     0.48536,     0.48395,     0.48254,     0.48113,\n",
       "            0.47702,     0.47263,     0.46821,     0.46377,     0.45927,      0.4547,     0.45011,      0.4455,      0.4411,     0.43806,     0.43501,     0.43195,     0.42888,     0.42579,      0.4227,     0.41738,     0.40952,     0.40159,     0.39771,     0.39483,     0.39195,     0.38906,     0.38616,\n",
       "            0.38324,     0.38032,     0.37505,     0.36514,     0.35555,      0.3497,     0.34381,     0.33787,     0.32883,     0.30984,     0.29265,     0.28393,     0.28096,     0.27798,     0.27499,     0.27199,     0.26898,     0.26596,     0.26292,     0.25958,     0.25559,     0.25158,     0.24756,\n",
       "            0.24352,     0.23946,     0.23538,     0.22029,     0.20428,     0.18679,     0.17115,     0.15613,     0.12244,     0.11873,     0.11501,     0.11127,     0.10752,     0.10376,     0.09998,    0.096184,    0.092461,    0.088753,     0.08503,    0.081292,     0.07754,    0.073773,    0.069992,\n",
       "           0.066195,    0.063789,    0.062486,    0.061182,    0.059876,    0.058569,    0.057259,    0.055948,    0.054635,    0.053321,    0.052004,    0.050686,    0.049366,    0.048044,     0.04672,    0.045395,    0.044067,    0.042738,    0.041408,    0.040075,     0.03874,    0.037404,    0.036066,\n",
       "           0.034726,    0.033384,           0,           0,           0,           0,           0,           0,           0,           0,           0,           0,           0,           0,           0,           0,           0,           0,           0,           0,           0,           0,           0,\n",
       "                  0,           0,           0,           0,           0,           0,           0,           0,           0,           0,           0,           0,           0,           0,           0,           0,           0,           0,           0,           0,           0,           0,           0,\n",
       "                  0,           0,           0,           0,           0,           0,           0,           0,           0,           0,           0,           0,           0,           0,           0,           0,           0,           0,           0,           0,           0,           0,           0,\n",
       "                  0,           0,           0,           0,           0,           0,           0,           0,           0,           0,           0]]), 'Confidence', 'F1'], [array([          0,    0.001001,    0.002002,    0.003003,    0.004004,    0.005005,    0.006006,    0.007007,    0.008008,    0.009009,     0.01001,    0.011011,    0.012012,    0.013013,    0.014014,    0.015015,    0.016016,    0.017017,    0.018018,    0.019019,     0.02002,    0.021021,    0.022022,    0.023023,\n",
       "          0.024024,    0.025025,    0.026026,    0.027027,    0.028028,    0.029029,     0.03003,    0.031031,    0.032032,    0.033033,    0.034034,    0.035035,    0.036036,    0.037037,    0.038038,    0.039039,     0.04004,    0.041041,    0.042042,    0.043043,    0.044044,    0.045045,    0.046046,    0.047047,\n",
       "          0.048048,    0.049049,     0.05005,    0.051051,    0.052052,    0.053053,    0.054054,    0.055055,    0.056056,    0.057057,    0.058058,    0.059059,     0.06006,    0.061061,    0.062062,    0.063063,    0.064064,    0.065065,    0.066066,    0.067067,    0.068068,    0.069069,     0.07007,    0.071071,\n",
       "          0.072072,    0.073073,    0.074074,    0.075075,    0.076076,    0.077077,    0.078078,    0.079079,     0.08008,    0.081081,    0.082082,    0.083083,    0.084084,    0.085085,    0.086086,    0.087087,    0.088088,    0.089089,     0.09009,    0.091091,    0.092092,    0.093093,    0.094094,    0.095095,\n",
       "          0.096096,    0.097097,    0.098098,    0.099099,      0.1001,      0.1011,      0.1021,      0.1031,      0.1041,     0.10511,     0.10611,     0.10711,     0.10811,     0.10911,     0.11011,     0.11111,     0.11211,     0.11311,     0.11411,     0.11512,     0.11612,     0.11712,     0.11812,     0.11912,\n",
       "           0.12012,     0.12112,     0.12212,     0.12312,     0.12412,     0.12513,     0.12613,     0.12713,     0.12813,     0.12913,     0.13013,     0.13113,     0.13213,     0.13313,     0.13413,     0.13514,     0.13614,     0.13714,     0.13814,     0.13914,     0.14014,     0.14114,     0.14214,     0.14314,\n",
       "           0.14414,     0.14515,     0.14615,     0.14715,     0.14815,     0.14915,     0.15015,     0.15115,     0.15215,     0.15315,     0.15415,     0.15516,     0.15616,     0.15716,     0.15816,     0.15916,     0.16016,     0.16116,     0.16216,     0.16316,     0.16416,     0.16517,     0.16617,     0.16717,\n",
       "           0.16817,     0.16917,     0.17017,     0.17117,     0.17217,     0.17317,     0.17417,     0.17518,     0.17618,     0.17718,     0.17818,     0.17918,     0.18018,     0.18118,     0.18218,     0.18318,     0.18418,     0.18519,     0.18619,     0.18719,     0.18819,     0.18919,     0.19019,     0.19119,\n",
       "           0.19219,     0.19319,     0.19419,      0.1952,      0.1962,      0.1972,      0.1982,      0.1992,      0.2002,      0.2012,      0.2022,      0.2032,      0.2042,     0.20521,     0.20621,     0.20721,     0.20821,     0.20921,     0.21021,     0.21121,     0.21221,     0.21321,     0.21421,     0.21522,\n",
       "           0.21622,     0.21722,     0.21822,     0.21922,     0.22022,     0.22122,     0.22222,     0.22322,     0.22422,     0.22523,     0.22623,     0.22723,     0.22823,     0.22923,     0.23023,     0.23123,     0.23223,     0.23323,     0.23423,     0.23524,     0.23624,     0.23724,     0.23824,     0.23924,\n",
       "           0.24024,     0.24124,     0.24224,     0.24324,     0.24424,     0.24525,     0.24625,     0.24725,     0.24825,     0.24925,     0.25025,     0.25125,     0.25225,     0.25325,     0.25425,     0.25526,     0.25626,     0.25726,     0.25826,     0.25926,     0.26026,     0.26126,     0.26226,     0.26326,\n",
       "           0.26426,     0.26527,     0.26627,     0.26727,     0.26827,     0.26927,     0.27027,     0.27127,     0.27227,     0.27327,     0.27427,     0.27528,     0.27628,     0.27728,     0.27828,     0.27928,     0.28028,     0.28128,     0.28228,     0.28328,     0.28428,     0.28529,     0.28629,     0.28729,\n",
       "           0.28829,     0.28929,     0.29029,     0.29129,     0.29229,     0.29329,     0.29429,      0.2953,      0.2963,      0.2973,      0.2983,      0.2993,      0.3003,      0.3013,      0.3023,      0.3033,      0.3043,     0.30531,     0.30631,     0.30731,     0.30831,     0.30931,     0.31031,     0.31131,\n",
       "           0.31231,     0.31331,     0.31431,     0.31532,     0.31632,     0.31732,     0.31832,     0.31932,     0.32032,     0.32132,     0.32232,     0.32332,     0.32432,     0.32533,     0.32633,     0.32733,     0.32833,     0.32933,     0.33033,     0.33133,     0.33233,     0.33333,     0.33433,     0.33534,\n",
       "           0.33634,     0.33734,     0.33834,     0.33934,     0.34034,     0.34134,     0.34234,     0.34334,     0.34434,     0.34535,     0.34635,     0.34735,     0.34835,     0.34935,     0.35035,     0.35135,     0.35235,     0.35335,     0.35435,     0.35536,     0.35636,     0.35736,     0.35836,     0.35936,\n",
       "           0.36036,     0.36136,     0.36236,     0.36336,     0.36436,     0.36537,     0.36637,     0.36737,     0.36837,     0.36937,     0.37037,     0.37137,     0.37237,     0.37337,     0.37437,     0.37538,     0.37638,     0.37738,     0.37838,     0.37938,     0.38038,     0.38138,     0.38238,     0.38338,\n",
       "           0.38438,     0.38539,     0.38639,     0.38739,     0.38839,     0.38939,     0.39039,     0.39139,     0.39239,     0.39339,     0.39439,      0.3954,      0.3964,      0.3974,      0.3984,      0.3994,      0.4004,      0.4014,      0.4024,      0.4034,      0.4044,     0.40541,     0.40641,     0.40741,\n",
       "           0.40841,     0.40941,     0.41041,     0.41141,     0.41241,     0.41341,     0.41441,     0.41542,     0.41642,     0.41742,     0.41842,     0.41942,     0.42042,     0.42142,     0.42242,     0.42342,     0.42442,     0.42543,     0.42643,     0.42743,     0.42843,     0.42943,     0.43043,     0.43143,\n",
       "           0.43243,     0.43343,     0.43443,     0.43544,     0.43644,     0.43744,     0.43844,     0.43944,     0.44044,     0.44144,     0.44244,     0.44344,     0.44444,     0.44545,     0.44645,     0.44745,     0.44845,     0.44945,     0.45045,     0.45145,     0.45245,     0.45345,     0.45445,     0.45546,\n",
       "           0.45646,     0.45746,     0.45846,     0.45946,     0.46046,     0.46146,     0.46246,     0.46346,     0.46446,     0.46547,     0.46647,     0.46747,     0.46847,     0.46947,     0.47047,     0.47147,     0.47247,     0.47347,     0.47447,     0.47548,     0.47648,     0.47748,     0.47848,     0.47948,\n",
       "           0.48048,     0.48148,     0.48248,     0.48348,     0.48448,     0.48549,     0.48649,     0.48749,     0.48849,     0.48949,     0.49049,     0.49149,     0.49249,     0.49349,     0.49449,      0.4955,      0.4965,      0.4975,      0.4985,      0.4995,      0.5005,      0.5015,      0.5025,      0.5035,\n",
       "            0.5045,     0.50551,     0.50651,     0.50751,     0.50851,     0.50951,     0.51051,     0.51151,     0.51251,     0.51351,     0.51451,     0.51552,     0.51652,     0.51752,     0.51852,     0.51952,     0.52052,     0.52152,     0.52252,     0.52352,     0.52452,     0.52553,     0.52653,     0.52753,\n",
       "           0.52853,     0.52953,     0.53053,     0.53153,     0.53253,     0.53353,     0.53453,     0.53554,     0.53654,     0.53754,     0.53854,     0.53954,     0.54054,     0.54154,     0.54254,     0.54354,     0.54454,     0.54555,     0.54655,     0.54755,     0.54855,     0.54955,     0.55055,     0.55155,\n",
       "           0.55255,     0.55355,     0.55455,     0.55556,     0.55656,     0.55756,     0.55856,     0.55956,     0.56056,     0.56156,     0.56256,     0.56356,     0.56456,     0.56557,     0.56657,     0.56757,     0.56857,     0.56957,     0.57057,     0.57157,     0.57257,     0.57357,     0.57457,     0.57558,\n",
       "           0.57658,     0.57758,     0.57858,     0.57958,     0.58058,     0.58158,     0.58258,     0.58358,     0.58458,     0.58559,     0.58659,     0.58759,     0.58859,     0.58959,     0.59059,     0.59159,     0.59259,     0.59359,     0.59459,      0.5956,      0.5966,      0.5976,      0.5986,      0.5996,\n",
       "            0.6006,      0.6016,      0.6026,      0.6036,      0.6046,     0.60561,     0.60661,     0.60761,     0.60861,     0.60961,     0.61061,     0.61161,     0.61261,     0.61361,     0.61461,     0.61562,     0.61662,     0.61762,     0.61862,     0.61962,     0.62062,     0.62162,     0.62262,     0.62362,\n",
       "           0.62462,     0.62563,     0.62663,     0.62763,     0.62863,     0.62963,     0.63063,     0.63163,     0.63263,     0.63363,     0.63463,     0.63564,     0.63664,     0.63764,     0.63864,     0.63964,     0.64064,     0.64164,     0.64264,     0.64364,     0.64464,     0.64565,     0.64665,     0.64765,\n",
       "           0.64865,     0.64965,     0.65065,     0.65165,     0.65265,     0.65365,     0.65465,     0.65566,     0.65666,     0.65766,     0.65866,     0.65966,     0.66066,     0.66166,     0.66266,     0.66366,     0.66466,     0.66567,     0.66667,     0.66767,     0.66867,     0.66967,     0.67067,     0.67167,\n",
       "           0.67267,     0.67367,     0.67467,     0.67568,     0.67668,     0.67768,     0.67868,     0.67968,     0.68068,     0.68168,     0.68268,     0.68368,     0.68468,     0.68569,     0.68669,     0.68769,     0.68869,     0.68969,     0.69069,     0.69169,     0.69269,     0.69369,     0.69469,      0.6957,\n",
       "            0.6967,      0.6977,      0.6987,      0.6997,      0.7007,      0.7017,      0.7027,      0.7037,      0.7047,     0.70571,     0.70671,     0.70771,     0.70871,     0.70971,     0.71071,     0.71171,     0.71271,     0.71371,     0.71471,     0.71572,     0.71672,     0.71772,     0.71872,     0.71972,\n",
       "           0.72072,     0.72172,     0.72272,     0.72372,     0.72472,     0.72573,     0.72673,     0.72773,     0.72873,     0.72973,     0.73073,     0.73173,     0.73273,     0.73373,     0.73473,     0.73574,     0.73674,     0.73774,     0.73874,     0.73974,     0.74074,     0.74174,     0.74274,     0.74374,\n",
       "           0.74474,     0.74575,     0.74675,     0.74775,     0.74875,     0.74975,     0.75075,     0.75175,     0.75275,     0.75375,     0.75475,     0.75576,     0.75676,     0.75776,     0.75876,     0.75976,     0.76076,     0.76176,     0.76276,     0.76376,     0.76476,     0.76577,     0.76677,     0.76777,\n",
       "           0.76877,     0.76977,     0.77077,     0.77177,     0.77277,     0.77377,     0.77477,     0.77578,     0.77678,     0.77778,     0.77878,     0.77978,     0.78078,     0.78178,     0.78278,     0.78378,     0.78478,     0.78579,     0.78679,     0.78779,     0.78879,     0.78979,     0.79079,     0.79179,\n",
       "           0.79279,     0.79379,     0.79479,      0.7958,      0.7968,      0.7978,      0.7988,      0.7998,      0.8008,      0.8018,      0.8028,      0.8038,      0.8048,     0.80581,     0.80681,     0.80781,     0.80881,     0.80981,     0.81081,     0.81181,     0.81281,     0.81381,     0.81481,     0.81582,\n",
       "           0.81682,     0.81782,     0.81882,     0.81982,     0.82082,     0.82182,     0.82282,     0.82382,     0.82482,     0.82583,     0.82683,     0.82783,     0.82883,     0.82983,     0.83083,     0.83183,     0.83283,     0.83383,     0.83483,     0.83584,     0.83684,     0.83784,     0.83884,     0.83984,\n",
       "           0.84084,     0.84184,     0.84284,     0.84384,     0.84484,     0.84585,     0.84685,     0.84785,     0.84885,     0.84985,     0.85085,     0.85185,     0.85285,     0.85385,     0.85485,     0.85586,     0.85686,     0.85786,     0.85886,     0.85986,     0.86086,     0.86186,     0.86286,     0.86386,\n",
       "           0.86486,     0.86587,     0.86687,     0.86787,     0.86887,     0.86987,     0.87087,     0.87187,     0.87287,     0.87387,     0.87487,     0.87588,     0.87688,     0.87788,     0.87888,     0.87988,     0.88088,     0.88188,     0.88288,     0.88388,     0.88488,     0.88589,     0.88689,     0.88789,\n",
       "           0.88889,     0.88989,     0.89089,     0.89189,     0.89289,     0.89389,     0.89489,      0.8959,      0.8969,      0.8979,      0.8989,      0.8999,      0.9009,      0.9019,      0.9029,      0.9039,      0.9049,     0.90591,     0.90691,     0.90791,     0.90891,     0.90991,     0.91091,     0.91191,\n",
       "           0.91291,     0.91391,     0.91491,     0.91592,     0.91692,     0.91792,     0.91892,     0.91992,     0.92092,     0.92192,     0.92292,     0.92392,     0.92492,     0.92593,     0.92693,     0.92793,     0.92893,     0.92993,     0.93093,     0.93193,     0.93293,     0.93393,     0.93493,     0.93594,\n",
       "           0.93694,     0.93794,     0.93894,     0.93994,     0.94094,     0.94194,     0.94294,     0.94394,     0.94494,     0.94595,     0.94695,     0.94795,     0.94895,     0.94995,     0.95095,     0.95195,     0.95295,     0.95395,     0.95495,     0.95596,     0.95696,     0.95796,     0.95896,     0.95996,\n",
       "           0.96096,     0.96196,     0.96296,     0.96396,     0.96496,     0.96597,     0.96697,     0.96797,     0.96897,     0.96997,     0.97097,     0.97197,     0.97297,     0.97397,     0.97497,     0.97598,     0.97698,     0.97798,     0.97898,     0.97998,     0.98098,     0.98198,     0.98298,     0.98398,\n",
       "           0.98498,     0.98599,     0.98699,     0.98799,     0.98899,     0.98999,     0.99099,     0.99199,     0.99299,     0.99399,     0.99499,       0.996,       0.997,       0.998,       0.999,           1]), array([[    0.12367,     0.12367,     0.18009,     0.22897,     0.26725,     0.29286,     0.31287,     0.32681,     0.34278,     0.36529,      0.3758,     0.39364,     0.39617,      0.4044,     0.40969,     0.41592,     0.42092,     0.42255,     0.42783,     0.43548,     0.44442,     0.44755,     0.45121,\n",
       "            0.45601,     0.45948,     0.46801,     0.47512,      0.4838,     0.49598,     0.50578,     0.50713,     0.50848,     0.51095,     0.52086,     0.52593,     0.52833,     0.53071,     0.53271,     0.53472,     0.53811,     0.54333,     0.54849,     0.55119,     0.55388,     0.55691,        0.56,\n",
       "             0.5747,     0.58354,     0.58912,     0.59308,     0.59603,     0.59898,     0.60643,     0.60846,     0.60988,      0.6113,     0.61272,     0.61414,     0.61503,     0.61578,     0.61653,     0.61727,     0.61802,     0.61876,     0.61951,     0.62025,       0.621,     0.62174,     0.62672,\n",
       "            0.63135,     0.63441,     0.63748,     0.64016,     0.64284,     0.64552,     0.64604,     0.64652,       0.647,     0.64748,     0.64795,     0.64843,     0.64891,     0.64939,     0.64987,     0.65035,     0.65083,      0.6513,     0.65178,     0.65226,     0.65274,     0.65322,      0.6537,\n",
       "            0.65809,     0.65852,     0.65915,     0.65977,      0.6604,     0.66103,     0.66165,     0.66228,      0.6629,     0.66353,     0.66416,     0.66478,     0.66541,     0.66604,     0.66666,     0.66731,     0.66795,     0.66859,     0.66924,     0.66988,     0.67053,     0.67117,     0.67182,\n",
       "            0.67246,      0.6731,     0.67375,     0.67439,     0.67504,     0.67569,      0.6778,     0.67991,     0.68202,     0.68413,     0.68601,     0.68776,     0.68952,     0.69127,     0.69302,     0.69417,     0.69269,     0.69121,     0.69001,     0.68955,     0.68908,     0.68862,     0.68815,\n",
       "            0.68769,     0.68722,     0.68676,     0.68629,     0.68583,     0.68686,     0.68837,     0.68988,     0.69138,     0.69289,      0.6944,     0.69603,     0.69826,      0.7005,     0.70273,     0.70497,     0.70693,      0.7087,     0.71048,     0.71225,     0.71403,      0.7158,     0.71622,\n",
       "            0.71591,      0.7156,     0.71529,     0.71498,     0.71467,     0.71436,     0.71405,     0.71374,     0.71343,     0.71313,     0.71282,     0.71251,      0.7122,     0.71039,     0.70809,      0.7088,     0.71013,     0.71147,      0.7128,     0.71414,     0.71547,     0.71681,     0.71815,\n",
       "            0.71921,     0.72004,     0.72087,     0.72171,     0.72254,     0.72337,     0.72421,     0.72504,     0.72587,     0.72671,     0.72754,     0.72837,     0.72921,     0.73004,     0.72913,     0.72794,     0.72675,     0.72571,     0.72527,     0.72482,     0.72437,     0.72393,     0.72348,\n",
       "            0.72304,     0.72259,     0.72214,      0.7217,     0.72136,     0.72171,     0.72207,     0.72242,     0.72278,     0.72313,     0.72349,     0.72384,      0.7242,     0.72455,     0.72491,     0.72526,     0.72562,     0.72597,     0.72633,     0.72668,     0.72704,     0.72739,     0.72775,\n",
       "             0.7281,     0.72845,     0.72881,     0.72916,     0.72952,     0.72987,     0.73023,     0.73058,     0.73094,     0.73129,     0.73165,       0.732,     0.73236,     0.73271,     0.73307,     0.73364,     0.73486,     0.73609,     0.73731,     0.73853,     0.73975,     0.74098,      0.7422,\n",
       "            0.74342,     0.74465,     0.74581,     0.74634,     0.74687,      0.7474,     0.74793,     0.74846,       0.749,     0.74953,     0.75006,     0.75059,     0.75112,     0.75165,     0.75218,     0.75271,     0.75324,     0.75378,     0.75431,     0.75484,     0.75537,      0.7559,     0.75643,\n",
       "            0.75696,     0.75749,     0.75802,     0.75856,     0.75885,     0.75911,     0.75937,     0.75962,     0.75988,     0.76014,      0.7604,     0.76066,     0.76092,     0.76118,     0.76144,      0.7617,     0.76195,     0.76221,     0.76247,     0.76273,     0.76299,     0.76325,     0.76351,\n",
       "            0.76377,     0.76402,     0.76428,     0.76454,      0.7648,     0.76506,     0.76532,     0.76558,     0.76584,      0.7661,     0.76635,     0.76661,     0.76687,     0.76713,     0.76739,     0.76765,     0.76791,     0.76817,     0.76843,     0.76868,     0.76894,      0.7692,     0.76946,\n",
       "            0.76972,     0.76998,     0.77024,      0.7705,     0.77076,     0.77101,     0.77127,     0.77153,     0.77179,     0.77245,     0.77356,     0.77468,     0.77579,     0.77691,     0.77802,     0.77914,     0.78025,     0.78137,     0.78248,      0.7836,     0.78471,      0.7857,     0.78555,\n",
       "            0.78539,     0.78524,     0.78509,     0.78494,     0.78478,     0.78463,     0.78448,     0.78433,     0.78417,     0.78402,     0.78387,     0.78371,     0.78356,     0.78341,     0.78326,      0.7831,     0.78295,      0.7828,     0.78265,     0.78249,     0.78234,     0.78219,     0.78204,\n",
       "            0.78188,     0.78192,     0.78208,     0.78225,     0.78242,     0.78259,     0.78276,     0.78293,      0.7831,     0.78327,     0.78344,     0.78361,     0.78378,     0.78395,     0.78412,     0.78429,     0.78446,     0.78462,     0.78479,     0.78496,     0.78513,      0.7853,     0.78547,\n",
       "            0.78564,     0.78581,     0.78598,     0.78615,     0.78632,     0.78649,     0.78666,     0.78683,     0.78699,     0.78716,     0.78733,      0.7875,     0.78767,     0.78784,     0.78801,     0.78818,     0.78835,     0.78852,     0.78869,     0.78886,     0.78903,      0.7892,     0.78936,\n",
       "            0.78953,      0.7897,     0.78987,     0.79004,     0.79021,     0.79038,     0.79055,     0.79072,     0.79089,     0.79106,     0.79123,      0.7914,     0.79157,     0.79174,      0.7919,     0.79207,     0.79224,     0.79241,     0.79258,     0.79275,     0.79292,     0.79309,     0.79326,\n",
       "            0.79343,      0.7936,     0.79377,     0.79394,     0.79411,     0.79427,     0.79444,     0.79461,     0.79478,     0.79495,     0.79512,     0.79529,     0.79546,     0.79563,      0.7958,     0.79597,     0.79614,       0.796,     0.79241,     0.79228,     0.79215,     0.79202,     0.79188,\n",
       "            0.79175,     0.79162,     0.79148,     0.79135,     0.79122,     0.79109,     0.79095,     0.79082,     0.79069,     0.79055,     0.79042,     0.79029,     0.79016,     0.79002,     0.78989,     0.78976,     0.78962,     0.78949,     0.78936,     0.78923,     0.78909,     0.78896,     0.78883,\n",
       "            0.78869,     0.78856,     0.78838,     0.78806,     0.78774,     0.78743,     0.78711,     0.78679,     0.78647,     0.78615,     0.78584,     0.78552,      0.7852,     0.78488,     0.78456,     0.78529,      0.7898,      0.7943,      0.7988,     0.79911,     0.79789,     0.79668,     0.79578,\n",
       "            0.79541,     0.79504,     0.79467,      0.7943,     0.79393,     0.79356,     0.79319,     0.79282,     0.79245,     0.79208,     0.79171,     0.79074,     0.78968,     0.78863,     0.78757,     0.78809,     0.78935,      0.7906,     0.79186,     0.79312,     0.79437,     0.79563,     0.79689,\n",
       "            0.79814,      0.7994,     0.80066,     0.80191,     0.80317,     0.80432,     0.80391,      0.8035,     0.80309,     0.80268,     0.80227,     0.80186,     0.80145,     0.80104,     0.80063,     0.80022,     0.79985,     0.79953,     0.79922,      0.7989,     0.79858,     0.79826,     0.79794,\n",
       "            0.79762,     0.79731,     0.79699,     0.79667,     0.79635,     0.79603,     0.79571,     0.79541,     0.79519,     0.79498,     0.79476,     0.79454,     0.79432,      0.7941,     0.79388,     0.79366,     0.79344,     0.79322,       0.793,     0.79278,     0.79256,     0.79234,     0.79213,\n",
       "            0.79191,     0.79169,     0.79147,     0.79125,     0.79103,     0.79081,      0.7964,     0.80805,     0.80921,     0.80886,      0.8085,     0.80815,     0.80779,     0.80743,     0.80708,     0.80672,     0.80637,     0.80601,     0.80565,      0.8053,     0.80494,     0.81946,     0.82466,\n",
       "            0.82417,     0.82368,     0.82319,      0.8227,     0.82221,     0.82172,     0.82123,     0.82074,     0.82114,     0.82231,     0.82348,     0.82465,     0.82582,     0.82698,     0.82815,     0.82932,     0.83049,     0.83166,     0.83283,       0.834,     0.83517,     0.83634,     0.83751,\n",
       "            0.83867,     0.83984,     0.84101,     0.84248,     0.84827,     0.85405,     0.85983,     0.86478,     0.86411,     0.86345,     0.86278,     0.86211,     0.86145,     0.86135,     0.86182,      0.8623,     0.86278,     0.86326,     0.86373,     0.86421,     0.86469,     0.86516,     0.86564,\n",
       "            0.86612,      0.8666,     0.86707,     0.86755,     0.86803,     0.86851,     0.86898,     0.86946,     0.86994,     0.87041,     0.87089,     0.87137,     0.87185,     0.87232,      0.8728,     0.87328,     0.87376,     0.87423,     0.87471,     0.87519,     0.87566,     0.87614,     0.87662,\n",
       "             0.8771,     0.87757,     0.87805,     0.87853,     0.87901,     0.87948,     0.87996,     0.88044,     0.88091,     0.88139,     0.88187,     0.88235,     0.88282,      0.8833,     0.88378,     0.88426,     0.88473,     0.88521,     0.88569,     0.88992,     0.89437,     0.89883,     0.90328,\n",
       "            0.90774,      0.9126,     0.92136,     0.93011,     0.93886,     0.93933,     0.93927,     0.93921,     0.93914,     0.93908,     0.93901,     0.93895,     0.93888,     0.93882,     0.93876,     0.93869,     0.93863,     0.93856,      0.9385,     0.93844,     0.93837,     0.93831,     0.93824,\n",
       "            0.93818,     0.93812,     0.93805,     0.93799,     0.93792,     0.93786,     0.93779,     0.93773,     0.93767,      0.9376,     0.93754,     0.93743,     0.93726,     0.93709,     0.93693,     0.93676,     0.93659,     0.93642,     0.93625,     0.93608,     0.93591,     0.93575,     0.93558,\n",
       "            0.93535,     0.93506,     0.93476,     0.93447,     0.93417,     0.93388,     0.93358,     0.93478,     0.94461,     0.95443,     0.96426,     0.96539,     0.96524,     0.96509,     0.96494,     0.96479,     0.96464,     0.96449,     0.96434,      0.9642,     0.96406,     0.96392,     0.96379,\n",
       "            0.96365,     0.96351,     0.96338,     0.96324,      0.9631,     0.96296,      0.9628,     0.96264,     0.96248,     0.96231,     0.96215,     0.96199,     0.96183,     0.96166,     0.96144,     0.96103,     0.96061,      0.9602,      0.9593,     0.95829,     0.95815,     0.95801,     0.95787,\n",
       "            0.95773,     0.95759,     0.95744,      0.9573,     0.95716,     0.95702,     0.95688,     0.95674,      0.9566,     0.95643,     0.95625,     0.95607,     0.95589,     0.95571,     0.95553,     0.95535,     0.95517,     0.95498,      0.9548,     0.95462,     0.95405,      0.9532,     0.95256,\n",
       "            0.95758,     0.96259,      0.9676,     0.97261,     0.97763,     0.98264,     0.98765,     0.99266,     0.99767,           1,           1,           1,           1,           1,           1,           1,           1,           1,           1,           1,           1,           1,           1,\n",
       "                  1,           1,           1,           1,           1,           1,           1,           1,           1,           1,           1,           1,           1,           1,           1,           1,           1,           1,           1,           1,           1,           1,           1,\n",
       "                  1,           1,           1,           1,           1,           1,           1,           1,           1,           1,           1,           1,           1,           1,           1,           1,           1,           1,           1,           1,           1,           1,           1,\n",
       "                  1,           1,           1,           1,           1,           1,           1,           1,           1,           1,           1,           1,           1,           1,           1,           1,           1,           1,           1,           1,           1,           1,           1,\n",
       "                  1,           1,           1,           1,           1,           1,           1,           1,           1,           1,           1,           1,           1,           1,           1,           1,           1,           1,           1,           1,           1,           1,           1,\n",
       "                  1,           1,           1,           1,           1,           1,           1,           1,           1,           1,           1,           1,           1,           1,           1,           1,           1,           1,           1,           1,           1,           1,           1,\n",
       "                  1,           1,           1,           1,           1,           1,           1,           1,           1,           1,           1,           1,           1,           1,           1,           1,           1,           1,           1,           1,           1,           1,           1,\n",
       "                  1,           1,           1,           1,           1,           1,           1,           1,           1,           1,           1,           1,           1,           1,           1,           1,           1,           1,           1,           1,           1,           1,           1,\n",
       "                  1,           1,           1,           1,           1,           1,           1,           1,           1,           1,           1]]), 'Confidence', 'Precision'], [array([          0,    0.001001,    0.002002,    0.003003,    0.004004,    0.005005,    0.006006,    0.007007,    0.008008,    0.009009,     0.01001,    0.011011,    0.012012,    0.013013,    0.014014,    0.015015,    0.016016,    0.017017,    0.018018,    0.019019,     0.02002,    0.021021,    0.022022,    0.023023,\n",
       "          0.024024,    0.025025,    0.026026,    0.027027,    0.028028,    0.029029,     0.03003,    0.031031,    0.032032,    0.033033,    0.034034,    0.035035,    0.036036,    0.037037,    0.038038,    0.039039,     0.04004,    0.041041,    0.042042,    0.043043,    0.044044,    0.045045,    0.046046,    0.047047,\n",
       "          0.048048,    0.049049,     0.05005,    0.051051,    0.052052,    0.053053,    0.054054,    0.055055,    0.056056,    0.057057,    0.058058,    0.059059,     0.06006,    0.061061,    0.062062,    0.063063,    0.064064,    0.065065,    0.066066,    0.067067,    0.068068,    0.069069,     0.07007,    0.071071,\n",
       "          0.072072,    0.073073,    0.074074,    0.075075,    0.076076,    0.077077,    0.078078,    0.079079,     0.08008,    0.081081,    0.082082,    0.083083,    0.084084,    0.085085,    0.086086,    0.087087,    0.088088,    0.089089,     0.09009,    0.091091,    0.092092,    0.093093,    0.094094,    0.095095,\n",
       "          0.096096,    0.097097,    0.098098,    0.099099,      0.1001,      0.1011,      0.1021,      0.1031,      0.1041,     0.10511,     0.10611,     0.10711,     0.10811,     0.10911,     0.11011,     0.11111,     0.11211,     0.11311,     0.11411,     0.11512,     0.11612,     0.11712,     0.11812,     0.11912,\n",
       "           0.12012,     0.12112,     0.12212,     0.12312,     0.12412,     0.12513,     0.12613,     0.12713,     0.12813,     0.12913,     0.13013,     0.13113,     0.13213,     0.13313,     0.13413,     0.13514,     0.13614,     0.13714,     0.13814,     0.13914,     0.14014,     0.14114,     0.14214,     0.14314,\n",
       "           0.14414,     0.14515,     0.14615,     0.14715,     0.14815,     0.14915,     0.15015,     0.15115,     0.15215,     0.15315,     0.15415,     0.15516,     0.15616,     0.15716,     0.15816,     0.15916,     0.16016,     0.16116,     0.16216,     0.16316,     0.16416,     0.16517,     0.16617,     0.16717,\n",
       "           0.16817,     0.16917,     0.17017,     0.17117,     0.17217,     0.17317,     0.17417,     0.17518,     0.17618,     0.17718,     0.17818,     0.17918,     0.18018,     0.18118,     0.18218,     0.18318,     0.18418,     0.18519,     0.18619,     0.18719,     0.18819,     0.18919,     0.19019,     0.19119,\n",
       "           0.19219,     0.19319,     0.19419,      0.1952,      0.1962,      0.1972,      0.1982,      0.1992,      0.2002,      0.2012,      0.2022,      0.2032,      0.2042,     0.20521,     0.20621,     0.20721,     0.20821,     0.20921,     0.21021,     0.21121,     0.21221,     0.21321,     0.21421,     0.21522,\n",
       "           0.21622,     0.21722,     0.21822,     0.21922,     0.22022,     0.22122,     0.22222,     0.22322,     0.22422,     0.22523,     0.22623,     0.22723,     0.22823,     0.22923,     0.23023,     0.23123,     0.23223,     0.23323,     0.23423,     0.23524,     0.23624,     0.23724,     0.23824,     0.23924,\n",
       "           0.24024,     0.24124,     0.24224,     0.24324,     0.24424,     0.24525,     0.24625,     0.24725,     0.24825,     0.24925,     0.25025,     0.25125,     0.25225,     0.25325,     0.25425,     0.25526,     0.25626,     0.25726,     0.25826,     0.25926,     0.26026,     0.26126,     0.26226,     0.26326,\n",
       "           0.26426,     0.26527,     0.26627,     0.26727,     0.26827,     0.26927,     0.27027,     0.27127,     0.27227,     0.27327,     0.27427,     0.27528,     0.27628,     0.27728,     0.27828,     0.27928,     0.28028,     0.28128,     0.28228,     0.28328,     0.28428,     0.28529,     0.28629,     0.28729,\n",
       "           0.28829,     0.28929,     0.29029,     0.29129,     0.29229,     0.29329,     0.29429,      0.2953,      0.2963,      0.2973,      0.2983,      0.2993,      0.3003,      0.3013,      0.3023,      0.3033,      0.3043,     0.30531,     0.30631,     0.30731,     0.30831,     0.30931,     0.31031,     0.31131,\n",
       "           0.31231,     0.31331,     0.31431,     0.31532,     0.31632,     0.31732,     0.31832,     0.31932,     0.32032,     0.32132,     0.32232,     0.32332,     0.32432,     0.32533,     0.32633,     0.32733,     0.32833,     0.32933,     0.33033,     0.33133,     0.33233,     0.33333,     0.33433,     0.33534,\n",
       "           0.33634,     0.33734,     0.33834,     0.33934,     0.34034,     0.34134,     0.34234,     0.34334,     0.34434,     0.34535,     0.34635,     0.34735,     0.34835,     0.34935,     0.35035,     0.35135,     0.35235,     0.35335,     0.35435,     0.35536,     0.35636,     0.35736,     0.35836,     0.35936,\n",
       "           0.36036,     0.36136,     0.36236,     0.36336,     0.36436,     0.36537,     0.36637,     0.36737,     0.36837,     0.36937,     0.37037,     0.37137,     0.37237,     0.37337,     0.37437,     0.37538,     0.37638,     0.37738,     0.37838,     0.37938,     0.38038,     0.38138,     0.38238,     0.38338,\n",
       "           0.38438,     0.38539,     0.38639,     0.38739,     0.38839,     0.38939,     0.39039,     0.39139,     0.39239,     0.39339,     0.39439,      0.3954,      0.3964,      0.3974,      0.3984,      0.3994,      0.4004,      0.4014,      0.4024,      0.4034,      0.4044,     0.40541,     0.40641,     0.40741,\n",
       "           0.40841,     0.40941,     0.41041,     0.41141,     0.41241,     0.41341,     0.41441,     0.41542,     0.41642,     0.41742,     0.41842,     0.41942,     0.42042,     0.42142,     0.42242,     0.42342,     0.42442,     0.42543,     0.42643,     0.42743,     0.42843,     0.42943,     0.43043,     0.43143,\n",
       "           0.43243,     0.43343,     0.43443,     0.43544,     0.43644,     0.43744,     0.43844,     0.43944,     0.44044,     0.44144,     0.44244,     0.44344,     0.44444,     0.44545,     0.44645,     0.44745,     0.44845,     0.44945,     0.45045,     0.45145,     0.45245,     0.45345,     0.45445,     0.45546,\n",
       "           0.45646,     0.45746,     0.45846,     0.45946,     0.46046,     0.46146,     0.46246,     0.46346,     0.46446,     0.46547,     0.46647,     0.46747,     0.46847,     0.46947,     0.47047,     0.47147,     0.47247,     0.47347,     0.47447,     0.47548,     0.47648,     0.47748,     0.47848,     0.47948,\n",
       "           0.48048,     0.48148,     0.48248,     0.48348,     0.48448,     0.48549,     0.48649,     0.48749,     0.48849,     0.48949,     0.49049,     0.49149,     0.49249,     0.49349,     0.49449,      0.4955,      0.4965,      0.4975,      0.4985,      0.4995,      0.5005,      0.5015,      0.5025,      0.5035,\n",
       "            0.5045,     0.50551,     0.50651,     0.50751,     0.50851,     0.50951,     0.51051,     0.51151,     0.51251,     0.51351,     0.51451,     0.51552,     0.51652,     0.51752,     0.51852,     0.51952,     0.52052,     0.52152,     0.52252,     0.52352,     0.52452,     0.52553,     0.52653,     0.52753,\n",
       "           0.52853,     0.52953,     0.53053,     0.53153,     0.53253,     0.53353,     0.53453,     0.53554,     0.53654,     0.53754,     0.53854,     0.53954,     0.54054,     0.54154,     0.54254,     0.54354,     0.54454,     0.54555,     0.54655,     0.54755,     0.54855,     0.54955,     0.55055,     0.55155,\n",
       "           0.55255,     0.55355,     0.55455,     0.55556,     0.55656,     0.55756,     0.55856,     0.55956,     0.56056,     0.56156,     0.56256,     0.56356,     0.56456,     0.56557,     0.56657,     0.56757,     0.56857,     0.56957,     0.57057,     0.57157,     0.57257,     0.57357,     0.57457,     0.57558,\n",
       "           0.57658,     0.57758,     0.57858,     0.57958,     0.58058,     0.58158,     0.58258,     0.58358,     0.58458,     0.58559,     0.58659,     0.58759,     0.58859,     0.58959,     0.59059,     0.59159,     0.59259,     0.59359,     0.59459,      0.5956,      0.5966,      0.5976,      0.5986,      0.5996,\n",
       "            0.6006,      0.6016,      0.6026,      0.6036,      0.6046,     0.60561,     0.60661,     0.60761,     0.60861,     0.60961,     0.61061,     0.61161,     0.61261,     0.61361,     0.61461,     0.61562,     0.61662,     0.61762,     0.61862,     0.61962,     0.62062,     0.62162,     0.62262,     0.62362,\n",
       "           0.62462,     0.62563,     0.62663,     0.62763,     0.62863,     0.62963,     0.63063,     0.63163,     0.63263,     0.63363,     0.63463,     0.63564,     0.63664,     0.63764,     0.63864,     0.63964,     0.64064,     0.64164,     0.64264,     0.64364,     0.64464,     0.64565,     0.64665,     0.64765,\n",
       "           0.64865,     0.64965,     0.65065,     0.65165,     0.65265,     0.65365,     0.65465,     0.65566,     0.65666,     0.65766,     0.65866,     0.65966,     0.66066,     0.66166,     0.66266,     0.66366,     0.66466,     0.66567,     0.66667,     0.66767,     0.66867,     0.66967,     0.67067,     0.67167,\n",
       "           0.67267,     0.67367,     0.67467,     0.67568,     0.67668,     0.67768,     0.67868,     0.67968,     0.68068,     0.68168,     0.68268,     0.68368,     0.68468,     0.68569,     0.68669,     0.68769,     0.68869,     0.68969,     0.69069,     0.69169,     0.69269,     0.69369,     0.69469,      0.6957,\n",
       "            0.6967,      0.6977,      0.6987,      0.6997,      0.7007,      0.7017,      0.7027,      0.7037,      0.7047,     0.70571,     0.70671,     0.70771,     0.70871,     0.70971,     0.71071,     0.71171,     0.71271,     0.71371,     0.71471,     0.71572,     0.71672,     0.71772,     0.71872,     0.71972,\n",
       "           0.72072,     0.72172,     0.72272,     0.72372,     0.72472,     0.72573,     0.72673,     0.72773,     0.72873,     0.72973,     0.73073,     0.73173,     0.73273,     0.73373,     0.73473,     0.73574,     0.73674,     0.73774,     0.73874,     0.73974,     0.74074,     0.74174,     0.74274,     0.74374,\n",
       "           0.74474,     0.74575,     0.74675,     0.74775,     0.74875,     0.74975,     0.75075,     0.75175,     0.75275,     0.75375,     0.75475,     0.75576,     0.75676,     0.75776,     0.75876,     0.75976,     0.76076,     0.76176,     0.76276,     0.76376,     0.76476,     0.76577,     0.76677,     0.76777,\n",
       "           0.76877,     0.76977,     0.77077,     0.77177,     0.77277,     0.77377,     0.77477,     0.77578,     0.77678,     0.77778,     0.77878,     0.77978,     0.78078,     0.78178,     0.78278,     0.78378,     0.78478,     0.78579,     0.78679,     0.78779,     0.78879,     0.78979,     0.79079,     0.79179,\n",
       "           0.79279,     0.79379,     0.79479,      0.7958,      0.7968,      0.7978,      0.7988,      0.7998,      0.8008,      0.8018,      0.8028,      0.8038,      0.8048,     0.80581,     0.80681,     0.80781,     0.80881,     0.80981,     0.81081,     0.81181,     0.81281,     0.81381,     0.81481,     0.81582,\n",
       "           0.81682,     0.81782,     0.81882,     0.81982,     0.82082,     0.82182,     0.82282,     0.82382,     0.82482,     0.82583,     0.82683,     0.82783,     0.82883,     0.82983,     0.83083,     0.83183,     0.83283,     0.83383,     0.83483,     0.83584,     0.83684,     0.83784,     0.83884,     0.83984,\n",
       "           0.84084,     0.84184,     0.84284,     0.84384,     0.84484,     0.84585,     0.84685,     0.84785,     0.84885,     0.84985,     0.85085,     0.85185,     0.85285,     0.85385,     0.85485,     0.85586,     0.85686,     0.85786,     0.85886,     0.85986,     0.86086,     0.86186,     0.86286,     0.86386,\n",
       "           0.86486,     0.86587,     0.86687,     0.86787,     0.86887,     0.86987,     0.87087,     0.87187,     0.87287,     0.87387,     0.87487,     0.87588,     0.87688,     0.87788,     0.87888,     0.87988,     0.88088,     0.88188,     0.88288,     0.88388,     0.88488,     0.88589,     0.88689,     0.88789,\n",
       "           0.88889,     0.88989,     0.89089,     0.89189,     0.89289,     0.89389,     0.89489,      0.8959,      0.8969,      0.8979,      0.8989,      0.8999,      0.9009,      0.9019,      0.9029,      0.9039,      0.9049,     0.90591,     0.90691,     0.90791,     0.90891,     0.90991,     0.91091,     0.91191,\n",
       "           0.91291,     0.91391,     0.91491,     0.91592,     0.91692,     0.91792,     0.91892,     0.91992,     0.92092,     0.92192,     0.92292,     0.92392,     0.92492,     0.92593,     0.92693,     0.92793,     0.92893,     0.92993,     0.93093,     0.93193,     0.93293,     0.93393,     0.93493,     0.93594,\n",
       "           0.93694,     0.93794,     0.93894,     0.93994,     0.94094,     0.94194,     0.94294,     0.94394,     0.94494,     0.94595,     0.94695,     0.94795,     0.94895,     0.94995,     0.95095,     0.95195,     0.95295,     0.95395,     0.95495,     0.95596,     0.95696,     0.95796,     0.95896,     0.95996,\n",
       "           0.96096,     0.96196,     0.96296,     0.96396,     0.96496,     0.96597,     0.96697,     0.96797,     0.96897,     0.96997,     0.97097,     0.97197,     0.97297,     0.97397,     0.97497,     0.97598,     0.97698,     0.97798,     0.97898,     0.97998,     0.98098,     0.98198,     0.98298,     0.98398,\n",
       "           0.98498,     0.98599,     0.98699,     0.98799,     0.98899,     0.98999,     0.99099,     0.99199,     0.99299,     0.99399,     0.99499,       0.996,       0.997,       0.998,       0.999,           1]), array([[    0.96667,     0.96667,     0.96667,     0.96667,        0.95,     0.93333,     0.91667,     0.88333,     0.88333,     0.88333,     0.88333,     0.88333,     0.88333,     0.88333,     0.88333,     0.88333,     0.88333,     0.88333,     0.88333,     0.88333,     0.88333,     0.86667,     0.86667,\n",
       "            0.86667,     0.86667,     0.86667,     0.86667,     0.86667,     0.86667,     0.86667,     0.86667,     0.86667,     0.86667,     0.86667,     0.86667,     0.86667,     0.86667,     0.86667,     0.86667,     0.86667,        0.85,        0.85,        0.85,        0.85,        0.85,        0.85,\n",
       "               0.85,        0.85,        0.85,        0.85,        0.85,        0.85,        0.85,        0.85,        0.85,        0.85,        0.85,        0.85,        0.85,        0.85,        0.85,        0.85,        0.85,        0.85,        0.85,        0.85,        0.85,        0.85,        0.85,\n",
       "               0.85,        0.85,        0.85,        0.85,        0.85,        0.85,        0.85,        0.85,        0.85,        0.85,        0.85,        0.85,        0.85,        0.85,        0.85,        0.85,        0.85,        0.85,        0.85,        0.85,        0.85,        0.85,        0.85,\n",
       "            0.83408,     0.83333,     0.83333,     0.83333,     0.83333,     0.83333,     0.83333,     0.83333,     0.83333,     0.83333,     0.83333,     0.83333,     0.83333,     0.83333,     0.83333,     0.83333,     0.83333,     0.83333,     0.83333,     0.83333,     0.83333,     0.83333,     0.83333,\n",
       "            0.83333,     0.83333,     0.83333,     0.83333,     0.83333,     0.83333,     0.83333,     0.83333,     0.83333,     0.83333,     0.83333,     0.83333,     0.83333,     0.83333,     0.83333,     0.83227,     0.82654,     0.82081,     0.81618,     0.81443,     0.81268,     0.81093,     0.80918,\n",
       "            0.80743,     0.80567,     0.80392,     0.80217,     0.80042,         0.8,         0.8,         0.8,         0.8,         0.8,         0.8,         0.8,         0.8,         0.8,         0.8,         0.8,         0.8,         0.8,         0.8,         0.8,         0.8,         0.8,     0.79922,\n",
       "            0.79802,     0.79682,     0.79562,     0.79442,     0.79322,     0.79202,     0.79083,     0.78963,     0.78843,     0.78723,     0.78603,     0.78483,     0.78363,     0.77683,     0.76815,     0.76667,     0.76667,     0.76667,     0.76667,     0.76667,     0.76667,     0.76667,     0.76667,\n",
       "            0.76667,     0.76667,     0.76667,     0.76667,     0.76667,     0.76667,     0.76667,     0.76667,     0.76667,     0.76667,     0.76667,     0.76667,     0.76667,     0.76667,     0.76274,     0.75817,      0.7536,     0.74965,     0.74799,     0.74634,     0.74469,     0.74304,     0.74138,\n",
       "            0.73973,     0.73808,     0.73642,     0.73477,     0.73333,     0.73333,     0.73333,     0.73333,     0.73333,     0.73333,     0.73333,     0.73333,     0.73333,     0.73333,     0.73333,     0.73333,     0.73333,     0.73333,     0.73333,     0.73333,     0.73333,     0.73333,     0.73333,\n",
       "            0.73333,     0.73333,     0.73333,     0.73333,     0.73333,     0.73333,     0.73333,     0.73333,     0.73333,     0.73333,     0.73333,     0.73333,     0.73333,     0.73333,     0.73333,     0.73333,     0.73333,     0.73333,     0.73333,     0.73333,     0.73333,     0.73333,     0.73333,\n",
       "            0.73333,     0.73333,     0.73333,     0.73333,     0.73333,     0.73333,     0.73333,     0.73333,     0.73333,     0.73333,     0.73333,     0.73333,     0.73333,     0.73333,     0.73333,     0.73333,     0.73333,     0.73333,     0.73333,     0.73333,     0.73333,     0.73333,     0.73333,\n",
       "            0.73333,     0.73333,     0.73333,     0.73333,     0.73333,     0.73333,     0.73333,     0.73333,     0.73333,     0.73333,     0.73333,     0.73333,     0.73333,     0.73333,     0.73333,     0.73333,     0.73333,     0.73333,     0.73333,     0.73333,     0.73333,     0.73333,     0.73333,\n",
       "            0.73333,     0.73333,     0.73333,     0.73333,     0.73333,     0.73333,     0.73333,     0.73333,     0.73333,     0.73333,     0.73333,     0.73333,     0.73333,     0.73333,     0.73333,     0.73333,     0.73333,     0.73333,     0.73333,     0.73333,     0.73333,     0.73333,     0.73333,\n",
       "            0.73333,     0.73333,     0.73333,     0.73333,     0.73333,     0.73333,     0.73333,     0.73333,     0.73333,     0.73333,     0.73333,     0.73333,     0.73333,     0.73333,     0.73333,     0.73333,     0.73333,     0.73333,     0.73333,     0.73333,     0.73333,     0.73327,     0.73261,\n",
       "            0.73196,     0.73131,     0.73066,        0.73,     0.72935,      0.7287,     0.72804,     0.72739,     0.72674,     0.72609,     0.72543,     0.72478,     0.72413,     0.72347,     0.72282,     0.72217,     0.72151,     0.72086,     0.72021,     0.71956,      0.7189,     0.71825,      0.7176,\n",
       "            0.71694,     0.71667,     0.71667,     0.71667,     0.71667,     0.71667,     0.71667,     0.71667,     0.71667,     0.71667,     0.71667,     0.71667,     0.71667,     0.71667,     0.71667,     0.71667,     0.71667,     0.71667,     0.71667,     0.71667,     0.71667,     0.71667,     0.71667,\n",
       "            0.71667,     0.71667,     0.71667,     0.71667,     0.71667,     0.71667,     0.71667,     0.71667,     0.71667,     0.71667,     0.71667,     0.71667,     0.71667,     0.71667,     0.71667,     0.71667,     0.71667,     0.71667,     0.71667,     0.71667,     0.71667,     0.71667,     0.71667,\n",
       "            0.71667,     0.71667,     0.71667,     0.71667,     0.71667,     0.71667,     0.71667,     0.71667,     0.71667,     0.71667,     0.71667,     0.71667,     0.71667,     0.71667,     0.71667,     0.71667,     0.71667,     0.71667,     0.71667,     0.71667,     0.71667,     0.71667,     0.71667,\n",
       "            0.71667,     0.71667,     0.71667,     0.71667,     0.71667,     0.71667,     0.71667,     0.71667,     0.71667,     0.71667,     0.71667,     0.71667,     0.71667,     0.71667,     0.71667,     0.71667,     0.71667,     0.71537,     0.69984,     0.69929,     0.69873,     0.69818,     0.69762,\n",
       "            0.69707,     0.69651,     0.69596,      0.6954,     0.69485,     0.69429,     0.69374,     0.69318,     0.69263,     0.69207,     0.69152,     0.69096,     0.69041,     0.68985,      0.6893,     0.68874,     0.68819,     0.68763,     0.68708,     0.68652,     0.68597,     0.68541,     0.68486,\n",
       "             0.6843,     0.68375,     0.68301,     0.68173,     0.68045,     0.67917,      0.6779,     0.67662,     0.67534,     0.67406,     0.67278,      0.6715,     0.67022,     0.66895,     0.66767,     0.66667,     0.66667,     0.66667,     0.66667,     0.66303,     0.65806,      0.6531,     0.64946,\n",
       "            0.64801,     0.64656,     0.64511,     0.64366,     0.64221,     0.64076,     0.63931,     0.63786,     0.63641,     0.63496,     0.63351,     0.62985,     0.62588,     0.62191,     0.61794,     0.61667,     0.61667,     0.61667,     0.61667,     0.61667,     0.61667,     0.61667,     0.61667,\n",
       "            0.61667,     0.61667,     0.61667,     0.61667,     0.61667,     0.61657,       0.615,     0.61342,     0.61185,     0.61028,     0.60871,     0.60713,     0.60556,     0.60399,     0.60242,     0.60085,     0.59946,     0.59829,     0.59713,     0.59596,     0.59479,     0.59362,     0.59246,\n",
       "            0.59129,     0.59012,     0.58896,     0.58779,     0.58662,     0.58545,     0.58429,     0.58319,     0.58242,     0.58166,     0.58089,     0.58012,     0.57935,     0.57858,     0.57781,     0.57705,     0.57628,     0.57551,     0.57474,     0.57397,      0.5732,     0.57244,     0.57167,\n",
       "             0.5709,     0.57013,     0.56936,      0.5686,     0.56783,     0.56706,     0.56667,     0.56667,     0.56555,     0.56428,       0.563,     0.56172,     0.56045,     0.55917,     0.55789,     0.55662,     0.55534,     0.55406,     0.55279,     0.55151,     0.55023,        0.55,     0.54874,\n",
       "            0.54692,      0.5451,     0.54328,     0.54146,     0.53964,     0.53782,       0.536,     0.53418,     0.53333,     0.53333,     0.53333,     0.53333,     0.53333,     0.53333,     0.53333,     0.53333,     0.53333,     0.53333,     0.53333,     0.53333,     0.53333,     0.53333,     0.53333,\n",
       "            0.53333,     0.53333,     0.53333,     0.53333,     0.53333,     0.53333,     0.53333,     0.53295,     0.52999,     0.52703,     0.52408,     0.52112,     0.51816,     0.51667,     0.51667,     0.51667,     0.51667,     0.51667,     0.51667,     0.51667,     0.51667,     0.51667,     0.51667,\n",
       "            0.51667,     0.51667,     0.51667,     0.51667,     0.51667,     0.51667,     0.51667,     0.51667,     0.51667,     0.51667,     0.51667,     0.51667,     0.51667,     0.51667,     0.51667,     0.51667,     0.51667,     0.51667,     0.51667,     0.51667,     0.51667,     0.51667,     0.51667,\n",
       "            0.51667,     0.51667,     0.51667,     0.51667,     0.51667,     0.51667,     0.51667,     0.51667,     0.51667,     0.51667,     0.51667,     0.51667,     0.51667,     0.51667,     0.51667,     0.51667,     0.51667,     0.51667,     0.51667,     0.51667,     0.51667,     0.51667,     0.51667,\n",
       "            0.51667,     0.51667,     0.51667,     0.51667,     0.51667,     0.51614,     0.51557,     0.51501,     0.51444,     0.51388,     0.51331,     0.51275,     0.51219,     0.51162,     0.51106,     0.51049,     0.50993,     0.50936,      0.5088,     0.50824,     0.50767,     0.50711,     0.50654,\n",
       "            0.50598,     0.50541,     0.50485,     0.50429,     0.50372,     0.50316,     0.50259,     0.50203,     0.50146,      0.5009,     0.50034,     0.49944,     0.49804,     0.49665,     0.49525,     0.49386,     0.49247,     0.49107,     0.48968,     0.48829,     0.48689,      0.4855,      0.4841,\n",
       "            0.48231,     0.48003,     0.47775,     0.47546,     0.47318,      0.4709,     0.46861,     0.46667,     0.46667,     0.46667,     0.46667,      0.4649,     0.46287,     0.46084,     0.45881,     0.45677,     0.45474,     0.45271,     0.45068,     0.44886,     0.44714,     0.44541,     0.44369,\n",
       "            0.44197,     0.44025,     0.43853,      0.4368,     0.43508,     0.43336,     0.43146,     0.42955,     0.42765,     0.42574,     0.42384,     0.42193,     0.42003,     0.41812,     0.41561,     0.41113,     0.40665,     0.40217,     0.39301,     0.38296,     0.38166,     0.38036,     0.37906,\n",
       "            0.37775,     0.37645,     0.37515,     0.37385,     0.37255,     0.37125,     0.36995,     0.36864,     0.36734,     0.36593,      0.3644,     0.36287,     0.36134,     0.35981,     0.35828,     0.35676,     0.35523,      0.3537,     0.35217,     0.35064,     0.34619,     0.33964,     0.33333,\n",
       "            0.33333,     0.33333,     0.33333,     0.33333,     0.33333,     0.33333,     0.33333,     0.33333,     0.33333,     0.33268,     0.33145,     0.33023,     0.32901,     0.32778,     0.32656,     0.32534,     0.32411,     0.32289,     0.32167,     0.32044,     0.31922,       0.318,     0.31677,\n",
       "            0.31322,     0.30944,     0.30566,     0.30189,     0.29808,     0.29425,     0.29042,     0.28659,     0.28296,     0.28046,     0.27797,     0.27547,     0.27298,     0.27048,     0.26799,     0.26373,     0.25748,     0.25124,     0.24821,     0.24598,     0.24374,     0.24151,     0.23928,\n",
       "            0.23704,     0.23481,     0.23081,     0.22334,     0.21621,      0.2119,     0.20759,     0.20328,     0.19677,     0.18332,     0.17141,     0.16545,     0.16344,     0.16143,     0.15941,      0.1574,     0.15539,     0.15337,     0.15136,     0.14915,     0.14652,     0.14389,     0.14127,\n",
       "            0.13864,     0.13601,     0.13339,     0.12378,     0.11376,     0.10301,    0.093586,    0.084673,     0.06521,    0.063112,    0.061014,    0.058915,    0.056817,    0.054719,     0.05262,    0.050522,    0.048472,    0.046437,    0.044403,    0.042368,    0.040334,    0.038299,    0.036265,\n",
       "           0.034231,    0.032945,    0.032251,    0.031557,    0.030862,    0.030168,    0.029474,    0.028779,    0.028085,    0.027391,    0.026696,    0.026002,    0.025307,    0.024613,    0.023919,    0.023224,     0.02253,    0.021836,    0.021141,    0.020447,    0.019753,    0.019058,    0.018364,\n",
       "            0.01767,    0.016975,           0,           0,           0,           0,           0,           0,           0,           0,           0,           0,           0,           0,           0,           0,           0,           0,           0,           0,           0,           0,           0,\n",
       "                  0,           0,           0,           0,           0,           0,           0,           0,           0,           0,           0,           0,           0,           0,           0,           0,           0,           0,           0,           0,           0,           0,           0,\n",
       "                  0,           0,           0,           0,           0,           0,           0,           0,           0,           0,           0,           0,           0,           0,           0,           0,           0,           0,           0,           0,           0,           0,           0,\n",
       "                  0,           0,           0,           0,           0,           0,           0,           0,           0,           0,           0]]), 'Confidence', 'Recall']]\n",
       "fitness: 0.5886585509329697\n",
       "keys: ['metrics/precision(B)', 'metrics/recall(B)', 'metrics/mAP50(B)', 'metrics/mAP50-95(B)']\n",
       "maps: array([    0.56426])\n",
       "names: {0: 'alpaca'}\n",
       "plot: True\n",
       "results_dict: {'metrics/precision(B)': 0.7841164345104485, 'metrics/recall(B)': 0.7166666666666667, 'metrics/mAP50(B)': 0.8082751139633196, 'metrics/mAP50-95(B)': 0.5642567105962641, 'fitness': 0.5886585509329697}\n",
       "save_dir: WindowsPath('runs/detect/train')\n",
       "speed: {'preprocess': 1.206899511403051, 'inference': 111.28761028421336, 'loss': 0.0, 'postprocess': 0.17239307535105738}\n",
       "task: 'detect'"
      ]
     },
     "execution_count": 21,
     "metadata": {},
     "output_type": "execute_result"
    }
   ],
   "source": [
    "from ultralytics import YOLO\n",
    "\n",
    "model = YOLO('yolov8s.pt')\n",
    "\n",
    "model.train(data='Alpaca_detection.v2i.yolov8/data.yaml' , epochs=20)"
   ]
  },
  {
   "cell_type": "code",
   "execution_count": 26,
   "metadata": {},
   "outputs": [
    {
     "name": "stdout",
     "output_type": "stream",
     "text": [
      "\n",
      "image 1/1 C:\\Users\\user\\Downloads\\al.jpg: 416x640 7 alpacas, 61.0ms\n",
      "Speed: 2.0ms preprocess, 61.0ms inference, 1.0ms postprocess per image at shape (1, 3, 416, 640)\n",
      "Results saved to \u001b[1mruns\\detect\\predict4\u001b[0m\n"
     ]
    },
    {
     "ename": "",
     "evalue": "",
     "output_type": "error",
     "traceback": [
      "\u001b[1;31m현재 셀 또는 이전 셀에서 코드를 실행하는 동안 Kernel이 충돌했습니다. \n",
      "\u001b[1;31m셀의 코드를 검토하여 가능한 오류 원인을 식별하세요. \n",
      "\u001b[1;31m자세한 내용을 보려면 <a href='https://aka.ms/vscodeJupyterKernelCrash'>여기</a>를 클릭하세요. \n",
      "\u001b[1;31m자세한 내용은 Jupyter <a href='command:jupyter.viewOutput'>로그</a>를 참조하세요."
     ]
    }
   ],
   "source": [
    "#가상환경 생성 후\n",
    "#무조건 주피터 노트북 사용하시는게 건강에 좋아여\n",
    "\n",
    "import cv2\n",
    "from ultralytics import YOLO\n",
    "\n",
    "#(비디오 웹캠용 모델 정의) 나노 스몰 미디움 마음대로 변경하셔도 되는데 무거워요\n",
    "model = YOLO('runs/detect/train/weights/best.pt')\n",
    "results = model.predict(source=\"C:/Users/user/Downloads/al.jpg\", show=True, save=True, conf = 0.02, show_boxes=True)\n",
    "#이미지 경우(안쓰실거면 주석처리)\n",
    "# !yolo predict model=yolov8n.pt source=\"C:/Users/user/Downloads/al.jpg\"  \n",
    "#저장된 이미지 파일 경로나 인터넷 이미지 주소 등등\n",
    "#------------------------------------------------------------------------------------\n",
    "# 비디오일 경우(안쓰실거면 주석처리)\n",
    "#video_path = \"경로 설정해주세여\"\n",
    "#cap = cv2.VideoCapture(video_path)\n",
    "#----------------------------------------------------------------#\n",
    "# 노트북 웹캠 사용일 경우(웹캠 안쓰실거면 주석처리)\n",
    "# cap = cv2.VideoCapture(0)\n",
    "\n",
    "# while cap.isOpened():\n",
    "#     # Read a frame from the video\n",
    "#     success, frame = cap.read()\n",
    "\n",
    "#     if success:\n",
    "#         # Run YOLOv8 inference on the frame\n",
    "#         results = model(frame)\n",
    "\n",
    "#         # Visualize the results on the frame\n",
    "#         annotated_frame = results[0].plot()\n",
    "\n",
    "#         cv2.imshow(\"YOLOv8 Inference\", annotated_frame)\n",
    "\n",
    "#         if cv2.waitKey(1) & 0xFF == ord(\"q\"):\n",
    "#             break\n",
    "#     else:\n",
    "#         # Break the loop if the end of the video is reached\n",
    "#         break\n",
    "\n",
    "# cap.release()\n",
    "# cv2.destroyAllWindows()"
   ]
  }
 ],
 "metadata": {
  "kernelspec": {
   "display_name": "Python 3",
   "language": "python",
   "name": "python3"
  },
  "language_info": {
   "codemirror_mode": {
    "name": "ipython",
    "version": 3
   },
   "file_extension": ".py",
   "mimetype": "text/x-python",
   "name": "python",
   "nbconvert_exporter": "python",
   "pygments_lexer": "ipython3",
   "version": "3.11.9"
  }
 },
 "nbformat": 4,
 "nbformat_minor": 2
}
